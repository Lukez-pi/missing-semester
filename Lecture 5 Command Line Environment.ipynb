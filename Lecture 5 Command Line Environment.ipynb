{
 "cells": [
  {
   "cell_type": "markdown",
   "metadata": {},
   "source": [
    "## Job Controls\n",
    "There are signals that we can send to a program, when we want to terminate the execution of a program in the shell, we commonly press `<C-C>`, which sends a `SIGINT` (signal interrupt) command to the shell, and terminates the program, we can also do `<C-\\>` to send a `SIGQUIT` signal.\n",
    "\n",
    "Shown in the lecture through Python, we can write handlers to respond to these signals, this can come in really handy if we want to want to save the intermediate state of our program instead of terminating the execution of the program right away.\n",
    "\n",
    "`<C-Z>` is `SIGSTOP`, we can start it by doing `bg %some_num`, where `some_num` is the identifier of the process we want to restart  (can find it through the `jobs` command)\n",
    "\n",
    "There are some signals that will not be able to captured, for example `SIGKILL`"
   ]
  },
  {
   "cell_type": "markdown",
   "metadata": {},
   "source": [
    "Appending `&` to the end of a command allows the program to run in the background without taking over the prompt, for example `nohup sleep 2000 &`, and if we call the program `jobs` through command line, we can see the job being executed in the background.\n",
    "\n",
    "`nohup` is a command in Linux that keeps processes running even after exiting the shell or the terminal, it prevents the processes or jobs from receiving the `SIGHUP` signal which is the signal sent to a process upon closing or exiting the terminal. That's why it is recommended to run this command with jobs when working through a remote session. However we can still kill this job by sending in the kill signal: `kill -KILL %identifier`"
   ]
  },
  {
   "cell_type": "markdown",
   "metadata": {},
   "source": [
    "## Terminal Multiplexer\n",
    "Three core concepts: sessions have windows (equivalent to tabs, bit different from the usage of windows in Vim), windows have panes.\n",
    "\n",
    "Calling `tmux` starts a session in the terminal, and note the `tmux` process is different from the shell process. Tmux key bindings all have the form `<C-b> x` where that means (1) press Ctrl+b, (2) release Ctrl+b, and then (3) press x. A lot of people remodified the `<C-b>` binding to `<C-a>` instead\n",
    "\n",
    "Typing `<C-b> d` will detach us from the session and typing `tmux a` will reattach us to the (first) session\n",
    "\n",
    "`<C-b> c` will open a new window, `<C-b> p` will move us back to the previous window and `<C-b> n` will move us to the next window\n",
    "\n",
    "`<C-b> \"` will split the window into two panes horizontally and `<C-b> %` to split it vertically, `<C-b> space` will space out the different commands, `<C-b> arrow keys` will allow us to move through the different panes, `<C-a> z`, `z` stands for zoom-in or out will allow us to zoom in and out of a window.\n",
    "\n",
    "Panes can be useful if we want to let the program execute while also editing the code side by side in the same window"
   ]
  },
  {
   "cell_type": "markdown",
   "metadata": {},
   "source": [
    "## Dot files and how to configure shell\n",
    "If we use a certain a lot, then we can use alias\n",
    "\n",
    "We can use alias for things that we mistype a lot, for example `sl` for `ls`\n",
    "\n",
    "We can also use alias to give an additional flag: `alias mv=\"mv -i`\n",
    "\n",
    "To check what the command an alias is referring to, we can do `alias ll`\n",
    "\n",
    "To make sure these aliases persist through different sessions, we can configure it in dotfiles (`~/.bashrc` in this case, the `bashrc` file will be under the home directory), then put these aliases into `.bashrc` and restart bash by typing `bash` into the shell\n",
    "\n",
    "Similarly, if we want to modify settings for our Vim editor, the best bet will be to modify the `.vimrc` file\n",
    "\n",
    "We might also want to consider backing up our dotfiles so we can always revert back to the older version if something goes wrong, we can do this using Github, but what if we don't want to directly create a Github repository with our home directory (which contains all the dotfiles)? What people commonly do is to create a `dotfiles` directory under the home directory, move all the dotfiles under that directory and then version control the `dotfiles` folder. But because when we're running Vim or bash, these programs will only look under the `~` directory for configurations, we can create a softlink or symlink from our `dotfiles` directory to the `home` directory, by doing for example: `ln -s ~/dotfiles/.bashrc ~/.bashrc`, so then whenever Vim or bash is looking for its configuration file, it will be redirected to the `dotfiles` folder. Any changes we make to the `.bashrc` under the `dotfiles` directory will be automatically reflected when we restart `bash` again."
   ]
  },
  {
   "cell_type": "code",
   "execution_count": 1,
   "metadata": {},
   "outputs": [
    {
     "name": "stdout",
     "output_type": "stream",
     "text": [
      "Couldn't find program: 'bash'\n"
     ]
    }
   ],
   "source": [
    "%%bash\n",
    "alias ll=\"ls -lah\"\n",
    "alias sl=ls"
   ]
  },
  {
   "cell_type": "markdown",
   "metadata": {},
   "source": [
    "## Remote machine\n",
    "ssh is a secure shell, once we log in to the remote machine successfully, it forwards displays the shell of the remote machine. We can also just run a command, and forward the output back to our local shell, do further operations on the output, without staying in the remote shell, for example:\n",
    "`ssh lukezhu@nexus.gs.washington.edu | grep *.sh`, In this example, the ls output of my home directory on the remote server will get piped through the `grep` command on my local machine.\n",
    "\n",
    "### rsync vs scp\n",
    "`scp` will attempt to copy over every file, whether the file already exists on the remote server or not, we can use `rsync -avP .....` to avoid that from happening\n",
    "\n",
    "### Using tmux with remote sessions\n",
    "We can start a job with `tmux`, exit the `ssh` session, and come back to it, and our `tmux` will still be running in the background without interruption"
   ]
  }
 ],
 "metadata": {
  "kernelspec": {
   "display_name": "Python 3",
   "language": "python",
   "name": "python3"
  },
  "language_info": {
   "codemirror_mode": {
    "name": "ipython",
    "version": 3
   },
   "file_extension": ".py",
   "mimetype": "text/x-python",
   "name": "python",
   "nbconvert_exporter": "python",
   "pygments_lexer": "ipython3",
   "version": "3.7.6"
  }
 },
 "nbformat": 4,
 "nbformat_minor": 2
}
