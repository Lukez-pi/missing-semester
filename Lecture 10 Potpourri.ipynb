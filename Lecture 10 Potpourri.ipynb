{
 "cells": [
  {
   "cell_type": "markdown",
   "metadata": {},
   "source": [
    "### Keyboard remapping\n",
    "We can set up keyboard combinations so that it will paste in our email, phonenumber to save time.\n",
    "\n",
    "We can also have the same key to map to two different keys, and distinguish them from each other through a pressing action or a holding action\n",
    "\n",
    "### Daemon\n",
    "Programs that are running in the background and waiting for some action to happen (for example software that responds to screen display), a lot of these Daemon softwares ends with a 'd' in their name. For example, to ssh into a different computer, the other computer must have the software `sshd` running and listening for `ssh` requests in order for `ssh` to work.\n",
    "\n",
    "If we want to perform an action periodically, we can just write a small daemon for that. In `linux` and `mac`, there already exists a program called `crond` that takes a configuration file and will run scheduled tasks. \n",
    "\n",
    "### File systems\n",
    "Can write user code that defines arbitrary actions when a file system operation is performed\n",
    "\n",
    "### Backup\n",
    "See lecture notes about backup options. When we think about data, it's not just data that lives on our harddrive like photos and documents, but also personal data that lives on a web server, like our emails or blogs. There also exists software solutions to generate offline copies of these data for backup."
   ]
  }
 ],
 "metadata": {
  "kernelspec": {
   "display_name": "Python 3",
   "language": "python",
   "name": "python3"
  },
  "language_info": {
   "codemirror_mode": {
    "name": "ipython",
    "version": 3
   },
   "file_extension": ".py",
   "mimetype": "text/x-python",
   "name": "python",
   "nbconvert_exporter": "python",
   "pygments_lexer": "ipython3",
   "version": "3.7.3"
  }
 },
 "nbformat": 4,
 "nbformat_minor": 2
}
