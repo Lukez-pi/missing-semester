{
 "cells": [
  {
   "cell_type": "markdown",
   "metadata": {},
   "source": [
    "This lecture focuses on the processes that surround the work we do when we are working with software. "
   ]
  },
  {
   "cell_type": "markdown",
   "metadata": {},
   "source": [
    "## Build system\n",
    "We have some targets that we want to build, for example a pdf version of our manuscript, or running the test suite or building the binary of the program. And when we build things, we will have dependencies that need to be built first in order to build our final target, so we need to define rule on how to go from these dependencies to our final target. For example, to build a manuscript, we need to build some of our figures (dependencies) first, once our figures are built, we need to figure out how to build the manuscript with these figures (rules). \n",
    "\n",
    "One example of build system> is `make`, it will always look for `MakeFile`. "
   ]
  },
  {
   "cell_type": "markdown",
   "metadata": {},
   "source": [
    "## Versioning\n",
    "There are different conventions on how versioning is done on a piece of software, for example, browser versions will look something like 64.0.20190324, it is versioned based on the date a bug fix was introduced. Or we might see versions that looks like 3.7.2, for example in Python. \n",
    "\n",
    "It is important to know about what the versioning rules are, because consider this: We are using a software written by an another developer as a dependency, and if the developer makes a breaking change (for example, changes a function name), then that would break our own software, so for our software to work, we can depend on a specific version of the external dependency. But what if the developer made a bug fix that didn't change the external interface of his software package, then it will be ideal if we can use his latest bug-free version as an external dependency. If the software version somehow communicates the nature of the changes being made, then it will make us easier to update our external dependency list. Semantic versioning is a way to do this, in particular, the first digit is the major version, second degit is the minor version, the third digit is the patch version. If a change is backwards compatible, the patch number should be incremented, if new functionalities are added in a backwards compatible manner, then the minor version should be incremented. If a backwards incompatible change is made, then the major version should be incremented. \n",
    "\n",
    "### Continuous integration\n",
    "An action that is triggered when an event takes place, for example, when we make a new commit (event), the code style will be checked (action), or when a new pull request is submitted (event), then the test suite will be run (action). Continuous integration is typically achieved with a script (a recipe) that will run whenever a specific event takes place, Travis CI is a good example of continuous integration. "
   ]
  },
  {
   "cell_type": "markdown",
   "metadata": {},
   "source": [
    "## Testing\n",
    "Terminologies,\n",
    "Test suite: all the tests for a particular program, large collections of test that runs as a unit\n",
    "\n",
    "Unit test: small contained test that tests a particular feature\n",
    "\n",
    "Integration test: tests the interactions between different subsystems of the program\n",
    "\n",
    "Regression test: tests things that are broken in the past, to prevent the reintroduction of earlier bugs\n",
    "\n",
    "Mocking: Being able to replace parts of its system with a dummy version of itself that behaves in a way that we control. For example, if we are unit testing a feature that copy files through ssh, it's the copying feature that we care about, so we can replace the whole 'opening up a secure connection and finding the file on the remote serve' part with a dummy file on our local disk. "
   ]
  }
 ],
 "metadata": {
  "kernelspec": {
   "display_name": "Python 3",
   "language": "python",
   "name": "python3"
  },
  "language_info": {
   "codemirror_mode": {
    "name": "ipython",
    "version": 3
   },
   "file_extension": ".py",
   "mimetype": "text/x-python",
   "name": "python",
   "nbconvert_exporter": "python",
   "pygments_lexer": "ipython3",
   "version": "3.7.3"
  }
 },
 "nbformat": 4,
 "nbformat_minor": 2
}
