{
 "cells": [
  {
   "cell_type": "markdown",
   "metadata": {},
   "source": [
    "### Entropy\n",
    "To quantify the randomness of a password, we measure the entropy. Entropy is measured in bits, E = log2(# of possibilities) bit\n",
    "\n",
    "### Cryptographic hash functions\n",
    "SHA1(data) -> 160bits \n",
    "Hash functions are a weaker version of cryptographic hash functions, in particular, cryptographic hashes have the following properties\n",
    "- Outputs of hash functions are non-invertible\n",
    "- These functions are collision resistant\n",
    "Because these hash functions are collision resistant (computationally infeasible to produce two files that has the same SHA1 hash), we can use it for a number of interesting applications, one example is for file checking: For example many other sites host mirrors of the debian distribution, how can we make sure that the debian we are downloading is the legit and not just a malicious piece of software. We can calculate the SHA1sum of our downloaded file and compare it to the SHA1sum provided by debian.org, and if they are the same, then we can be assured that we got the right copy. \n",
    "\n",
    "### Key derivation functions (KDF)\n",
    "Similar to hash functions, but it is slow to compute. This could be advantageous for password authentication, for example, let's say our software has hashes of the user password saved, and we want to verify if the user password input is correct, it is ok if calculating the hash and verifying that they match is a bit slower, because this is a one-time operation. But if some hacker cracked our password database and obtained the hashes of all users' passwords, then if the operation of calculating the hash is slow, it can drastically slow down the hackers progress to brute force the passwords. \n",
    "\n",
    "### Symmetric key cryptography\n",
    "The API has three functions:\n",
    "- Keygen() function -> key \n",
    "- encrypt(plaintext, key) -> ciphertext\n",
    "- decrypt(ciphertext, key) -> plaintext\n",
    "And there are a couple of properties:\n",
    "- Given the ciphertext, can't figure out the plaintext without the key \n",
    "- Decrypt(encrypt(msg, k), k) -> msg (correctness property)\n",
    "This can be really useful for encrypting files on cloud storage. For example, to prevent Dropbox from actually looking into my files, then we can encrypt our data and upload the ciphertext onto dropbox (it is very difficult to crack because the key generated has high entropy) .\n",
    "\n",
    "But what if we lose our key (because it's so random, it's hard to memorize)? Instead we can get our key through the key derivation function: \n",
    "```\n",
    "                        passphrase\n",
    "                            |\n",
    "                           KDF          \n",
    "                            |\n",
    "                           key          plaintext\n",
    "                            \\               /\n",
    "                              \\           /\n",
    "                                \\       /\n",
    "                             encrypt function \n",
    "                                    |\n",
    "                                    |\n",
    "                                ciphertext\n",
    "```\n",
    "\n",
    "### Asymmetric key cryptography\n",
    "Very similar to symmetric key cryptography, but the \n",
    "- `keygen()` will generate a public and a private key\n",
    "- `encrypt(msg, public key) -> ciphertext`\n",
    "- `decrypt(ciphertext, private key) -> msg`\n",
    "This has the advantage where we can post the public key online, and anyone else can send us an encrypted message using that public key, and we can decrypt it with our private key (asymmetrical, other people can only encrypt but not decrypt). This is more secure because if two people want to communicate over the channel with symmetric key cryptography, the key needs to be sent through the channel and shared between the two people, if the key gets intercepted, then there's no more secret.  \n",
    "\n",
    "The private/public key construction also gives us two additional features that are somewhat related to encryption and decryption: signing and verifying:\n",
    "- `sign(msg, private key) -> signature`\n",
    "- `verify(msg, signature, public key) -> OK?`\n",
    "Since the private key is kept private, the signature is hard to forge. In this case, encrypting the message that is being sent over is not really the concern, it is about verifying that the message is indeed sent by the right person, for example verfiying a bank login\n",
    "\n",
    "Example: \n",
    "- email encryption, some people has their public key posted online, and send an encrypted email. The interesting thing here though, is that because asymmetric key crytography is slower compared to the symmetric model, the email encryption actually adopts a hybrid model, see the end of lecture 9 for additional details for how this implemented.\n",
    "- private messaging\n",
    "- sign software releases (like the debian example to make sure you got the legit version of the debian distribution)\n"
   ]
  }
 ],
 "metadata": {
  "kernelspec": {
   "display_name": "Python 3",
   "language": "python",
   "name": "python3"
  },
  "language_info": {
   "codemirror_mode": {
    "name": "ipython",
    "version": 3
   },
   "file_extension": ".py",
   "mimetype": "text/x-python",
   "name": "python",
   "nbconvert_exporter": "python",
   "pygments_lexer": "ipython3",
   "version": "3.7.3"
  }
 },
 "nbformat": 4,
 "nbformat_minor": 2
}
