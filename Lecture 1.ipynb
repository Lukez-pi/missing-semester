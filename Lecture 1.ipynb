{
 "cells": [
  {
   "cell_type": "markdown",
   "metadata": {},
   "source": [
    "shell is a program, that is used for starting other applications (cd, mkdir, etc.), processes commands and returns output. (for example, bash)\n",
    "\n",
    "console is a physical device, like a keyboard or mouse\n",
    "\n",
    "command line is an interface, opposite to a graphical user interface, CLI takes input from the keyboard and GUI takes input from the mouse "
   ]
  },
  {
   "cell_type": "markdown",
   "metadata": {},
   "source": [
    "Environment variables are things that are set everytime we run the shell, helps the shell determine where all the programs such as 'cd', 'mkdir' are, everytime we run a program, bash will search though all the paths under $PATH"
   ]
  },
  {
   "cell_type": "code",
   "execution_count": 1,
   "metadata": {},
   "outputs": [
    {
     "name": "stdout",
     "output_type": "stream",
     "text": [
      "/home/lukezhu/anaconda3/bin:/home/lukezhu/anaconda3/condabin:/usr/local/sbin:/usr/local/bin:/usr/sbin:/usr/bin:/sbin:/bin:/usr/games:/usr/local/games:/snap/bin\r\n"
     ]
    }
   ],
   "source": [
    "!echo $PATH"
   ]
  },
  {
   "cell_type": "markdown",
   "metadata": {},
   "source": [
    "To determine the directory of the program, use 'which'"
   ]
  },
  {
   "cell_type": "code",
   "execution_count": 2,
   "metadata": {},
   "outputs": [
    {
     "name": "stdout",
     "output_type": "stream",
     "text": [
      "/bin/echo\r\n"
     ]
    }
   ],
   "source": [
    "!which echo"
   ]
  },
  {
   "cell_type": "markdown",
   "metadata": {},
   "source": [
    "cd ~ brings you back to the home directory\n",
    "\n",
    "cd - brings you to the previous directory (super helpful!)"
   ]
  },
  {
   "cell_type": "markdown",
   "metadata": {},
   "source": [
    " ... means 1 or more, [] means optional \n",
    "so `ls [OPTION]... [FILE]...` means optional number of options, and optional number of files\n",
    "\n",
    "option vs flag, flag doesn't take a value, but option does"
   ]
  },
  {
   "cell_type": "markdown",
   "metadata": {},
   "source": [
    "when we do `ls -l`, it provides us with extra information, in the first column, we might see something like `-rw-r--r--`, the first `-` indicates that it is a file, if it is a directory, it will be replaced with `d` instead. Then the following three characters `rw-` are the permissions allowed on the file/directory for the owner of the file, the next three characters `r--` are the permissions for the group that owns the file, and the last three characters are `r--` are the permissions for everyone else.\n",
    "\n",
    "The groups of three characters are ordered by:\n",
    "`r` - read\n",
    "\n",
    "`w` - write\n",
    "\n",
    "`x` - execute\n",
    "\n",
    "`-` means the corresponding permission is not granted\n",
    "\n",
    "For directories though, read, write and execute means something different:\n",
    "\n",
    "read means whether being able to see what's inside the directory (equivalent to list the directory)\n",
    "\n",
    "write means whether being to delete or rename what's in the directory\n",
    "\n",
    "execute, is also known as 'search', indicates whether we are able to enter the directory, so in order to be able to list, rename... files of the directory, the directory must grant `x` permission"
   ]
  },
  {
   "cell_type": "markdown",
   "metadata": {},
   "source": [
    "## Some commands"
   ]
  },
  {
   "cell_type": "markdown",
   "metadata": {},
   "source": [
    "`mv` allows us to rename a file, or rename and move it to a new directory\n",
    "\n",
    "`cp $from_dir $to_dir`\n",
    "\n",
    "`cat` prints the content of a file\n",
    "\n",
    "`tail -n1` prints the last line of an input\n",
    "\n",
    "`tee` takes an input and writes it to a file, and also to stdout, `tee` can be quite useful, if we want to not only print out the outputs of a command to file, but also further pipe it to the next command, for example `foo | tee file.txt | bar`. If we compared `echo 1 > output.txt` vs `echo 1 | tee output.txt`, both command writes 1 to `output.txt`, but `tee` prints `1` to the terminal as well."
   ]
  },
  {
   "cell_type": "markdown",
   "metadata": {},
   "source": [
    "`man $program` to get a nicer version of `--help`, press `q` to exit the `man` program\n",
    "\n",
    "and Ctrl+L to clear the shell"
   ]
  },
  {
   "cell_type": "markdown",
   "metadata": {},
   "source": [
    "## Combining different programs"
   ]
  },
  {
   "cell_type": "markdown",
   "metadata": {},
   "source": [
    "Every program has two primary streams (input & output), by default, these streams are the terminal, that's why `echo hello` prints `hello` back to the terminal. The shell gives us more power on specifying the input and output streams:\n",
    "\n",
    "`<` rewires the input stream, so for example, `cat < file` rewires the content of the file to the `cat` program, and `> files` rewires the output stream to the file\n",
    "\n",
    "`>>` means append, instead of overwrite\n",
    "\n",
    "`|` takes the output of the program to the left and makes it the input to the program on the right, so `ls -l / | tail -n1` prints only the last line of the `ls -l \\` command. Pipe is just for texts, we can also use it on images(!!)"
   ]
  },
  {
   "cell_type": "markdown",
   "metadata": {},
   "source": [
    "## Root user on Linux"
   ]
  },
  {
   "cell_type": "markdown",
   "metadata": {},
   "source": [
    "Root user on Linux has an id 0, can do whatever it wants (superuser), usually we are not the root user, because we can accidentally run the wrong program and destroy the computer, `sudo` allows us to run a program as the superuser (superuser do)\n",
    "\n",
    "In the class, the TA brought up the example `echo 500 > brightness`, in which case we would attempt to change the brightness of the screen, but we were denied permission, the solution to this problem however, will not be `sudo echo 500 > brightness`, because programs don't know about where the redirections of inputs and outputs (`>`, `<`, `|`) came from, for example, in the command:\n",
    "\n",
    "`ls -l \\ | tail -n1`\n",
    "\n",
    "`tail` doesn't know about `ls`, neither does `ls` knows about `tail`, all the redirection was taken care of by the shell, so when we run `sudo echo 500 > brightness`, `brightness` doesn't know about `sudo` as the input stream `sudo echo 500` was redirected through the shell, and the `brightness` program is not being opened by `sudo` as a result.\n",
    "\n",
    "Personal comment: The reason why `echo 500 | brightness` wouldn't work is because `brightness` is a file, not a command, so piping a stream to a file wouldn't make sense\n",
    "\n",
    "One way we can solve this is to attach `#` symbol in front (`# echo 1 > ....`), `#` indicates 'run this as root'. The `$` sign that we see in the terminal indicates that we are not running the following command as root. \n",
    "\n",
    "We can also do `sudo su`, which gives us a shell as the superuser (kind of like running the Command Prompt in Windows as administrator\n",
    "\n",
    "Or, we can do `echo 1000| sudo tee brightness`, so we run `tee` as root, and write the output into the brightness file\n",
    "\n",
    "I wonder if I can do `sudo cat brightness`"
   ]
  },
  {
   "cell_type": "markdown",
   "metadata": {},
   "source": [
    "## Opening a file"
   ]
  },
  {
   "cell_type": "markdown",
   "metadata": {},
   "source": [
    "In Linux, `xdg-open`, in Mac, `open`, and it will open it in the appropriate program (recall last time I cd'ed into `\\` and ran `xdg-open .`."
   ]
  },
  {
   "cell_type": "markdown",
   "metadata": {},
   "source": [
    "## Exercise\n",
    "\n",
    "1. Create a new directory called missing under /tmp.\n",
    "2. Look up the touch program. The man program is your friend.\n",
    "3. Use touch to create a new file called semester in missing.\n",
    "4. Write the following into that file, one line at a time:\n",
    "```\n",
    "    #!/bin/sh\n",
    "    curl --head --silent https://missing.csail.mit.edu\n",
    "```\n",
    "    The first line might be tricky to get working. It’s helpful to know that # starts a comment in Bash, and ! has a special meaning even within double-quoted (\") strings. Bash treats single-quoted strings (') differently: they will do the trick in this case. See the Bash quoting manual page for more information.\n",
    "5. Try to execute the file, i.e. type the path to the script (./semester) into your shell and press enter. Understand why it doesn’t work by consulting the output of ls (hint: look at the permission bits of the file).\n",
    "6. Run the command by explicitly starting the sh interpreter, and giving it the file semester as the first argument, i.e. sh semester. Why does this work, while ./semester didn’t?\n",
    "7. Look up the chmod program (e.g. use man chmod).\n",
    "8. Use chmod to make it possible to run the command ./semester rather than having to type sh semester. How does your shell know that the file is supposed to be interpreted using sh? See this page on the shebang line for more information.\n",
    "9. Use | and > to write the “last modified” date output by semester into a file called last-modified.txt in your home directory.\n",
    "10. Write a command that reads out your laptop battery’s power level or your desktop machine’s CPU temperature from /sys. Note: if you’re a macOS user, your OS doesn’t have sysfs, so you can skip this exercise.\n"
   ]
  },
  {
   "cell_type": "code",
   "execution_count": 12,
   "metadata": {
    "scrolled": true
   },
   "outputs": [],
   "source": [
    "!mkdir /tmp/missing"
   ]
  },
  {
   "cell_type": "code",
   "execution_count": 6,
   "metadata": {
    "scrolled": true
   },
   "outputs": [
    {
     "name": "stdout",
     "output_type": "stream",
     "text": [
      "TOUCH(1)                         User Commands                        TOUCH(1)\r\n",
      "\r\n",
      "N\bNA\bAM\bME\bE\r\n",
      "       touch - change file timestamps\r\n",
      "\r\n",
      "S\bSY\bYN\bNO\bOP\bPS\bSI\bIS\bS\r\n",
      "       t\bto\bou\buc\bch\bh [_\bO_\bP_\bT_\bI_\bO_\bN]... _\bF_\bI_\bL_\bE...\r\n",
      "\r\n",
      "D\bDE\bES\bSC\bCR\bRI\bIP\bPT\bTI\bIO\bON\bN\r\n",
      "       Update  the  access  and modification times of each FILE to the current\r\n",
      "       time.\r\n",
      "\r\n",
      "       A FILE argument that does not exist is created empty, unless -\b-c\bc  or  -\b-h\bh\r\n",
      "       is supplied.\r\n",
      "\r\n",
      "       A  FILE  argument  string of - is handled specially and causes touch to\r\n",
      "       change the times of the file associated with standard output.\r\n",
      "\r\n",
      "       Mandatory arguments to long options are  mandatory  for  short  options\r\n",
      "       too.\r\n",
      "\r\n",
      "       -\b-a\ba     change only the access time\r\n",
      "\r\n",
      "       -\b-c\bc, -\b--\b-n\bno\bo-\b-c\bcr\bre\bea\bat\bte\be\r\n",
      "              do not create any files\r\n",
      "\r\n",
      "       -\b-d\bd, -\b--\b-d\bda\bat\bte\be=_\bS_\bT_\bR_\bI_\bN_\bG\r\n",
      "              parse STRING and use it instead of current time\r\n",
      "\r\n",
      "       -\b-f\bf     (ignored)\r\n",
      "\r\n",
      "       -\b-h\bh, -\b--\b-n\bno\bo-\b-d\bde\ber\bre\bef\bfe\ber\bre\ben\bnc\bce\be\r\n",
      "              affect each symbolic link instead of any referenced file (useful\r\n",
      "              only on systems that can change the timestamps of a symlink)\r\n",
      "\r\n",
      "       -\b-m\bm     change only the modification time\r\n",
      "\r\n",
      "       -\b-r\br, -\b--\b-r\bre\bef\bfe\ber\bre\ben\bnc\bce\be=_\bF_\bI_\bL_\bE\r\n",
      "              use this file's times instead of current time\r\n",
      "\r\n",
      "       -\b-t\bt STAMP\r\n",
      "              use [[CC]YY]MMDDhhmm[.ss] instead of current time\r\n",
      "\r\n",
      "       -\b--\b-t\bti\bim\bme\be=_\bW_\bO_\bR_\bD\r\n",
      "              change the specified time: WORD is access, atime, or use: equiv‐\r\n",
      "              alent to -\b-a\ba WORD is modify or mtime: equivalent to -\b-m\bm\r\n",
      "\r\n",
      "       -\b--\b-h\bhe\bel\blp\bp display this help and exit\r\n",
      "\r\n",
      "       -\b--\b-v\bve\ber\brs\bsi\bio\bon\bn\r\n",
      "              output version information and exit\r\n",
      "\r\n",
      "       Note that the -\b-d\bd and -\b-t\bt options accept different time-date formats.\r\n",
      "\r\n",
      "D\bDA\bAT\bTE\bE S\bST\bTR\bRI\bIN\bNG\bG\r\n",
      "       The  --date=STRING  is  a mostly free format human readable date string\r\n",
      "       such as \"Sun, 29 Feb 2004 16:21:42 -0800\" or \"2004-02-29  16:21:42\"  or\r\n",
      "       even  \"next Thursday\".  A date string may contain items indicating cal‐\r\n",
      "       endar date, time of day, time zone, day of week, relative  time,  rela‐\r\n",
      "       tive date, and numbers.  An empty string indicates the beginning of the\r\n",
      "       day.  The date string format is more complex than is easily  documented\r\n",
      "       here but is fully described in the info documentation.\r\n",
      "\r\n",
      "A\bAU\bUT\bTH\bHO\bOR\bR\r\n",
      "       Written  by  Paul  Rubin, Arnold Robbins, Jim Kingdon, David MacKenzie,\r\n",
      "       and Randy Smith.\r\n",
      "\r\n",
      "R\bRE\bEP\bPO\bOR\bRT\bTI\bIN\bNG\bG B\bBU\bUG\bGS\bS\r\n",
      "       GNU coreutils online help: <http://www.gnu.org/software/coreutils/>\r\n",
      "       Report touch translation bugs to <http://translationproject.org/team/>\r\n",
      "\r\n",
      "C\bCO\bOP\bPY\bYR\bRI\bIG\bGH\bHT\bT\r\n",
      "       Copyright © 2017 Free Software Foundation, Inc.   License  GPLv3+:  GNU\r\n",
      "       GPL version 3 or later <http://gnu.org/licenses/gpl.html>.\r\n",
      "       This  is  free  software:  you  are free to change and redistribute it.\r\n",
      "       There is NO WARRANTY, to the extent permitted by law.\r\n",
      "\r\n",
      "S\bSE\bEE\bE A\bAL\bLS\bSO\bO\r\n",
      "       Full documentation at: <http://www.gnu.org/software/coreutils/touch>\r\n",
      "       or available locally via: info '(coreutils) touch invocation'\r\n",
      "\r\n",
      "GNU coreutils 8.28               January 2018                         TOUCH(1)\r\n"
     ]
    }
   ],
   "source": [
    "!man touch"
   ]
  },
  {
   "cell_type": "code",
   "execution_count": 13,
   "metadata": {},
   "outputs": [],
   "source": [
    "!touch /tmp/missing/semester"
   ]
  },
  {
   "cell_type": "code",
   "execution_count": 14,
   "metadata": {},
   "outputs": [],
   "source": [
    "!echo '#!/bin/sh' | cat > /tmp/missing/semester\n",
    "!echo 'curl --head --silent https://missing.csail.mit.edu' | cat >> /tmp/missing/semester"
   ]
  },
  {
   "cell_type": "code",
   "execution_count": 17,
   "metadata": {
    "scrolled": true
   },
   "outputs": [
    {
     "name": "stdout",
     "output_type": "stream",
     "text": [
      "total 4\n",
      "-rw-r--r-- 1 lukezhu lukezhu 61 Aug 26 22:22 semester\n",
      "HTTP/1.1 200 OK\n",
      "\u001b[1mConnection\u001b[0m: keep-alive\n",
      "\u001b[1mContent-Length\u001b[0m: 7731\n",
      "\u001b[1mServer\u001b[0m: GitHub.com\n",
      "\u001b[1mContent-Type\u001b[0m: text/html; charset=utf-8\n",
      "\u001b[1mLast-Modified\u001b[0m: Thu, 20 Aug 2020 00:59:16 GMT\n",
      "\u001b[1mETag\u001b[0m: \"5f3dcae4-1e33\"\n",
      "\u001b[1mAccess-Control-Allow-Origin\u001b[0m: *\n",
      "\u001b[1mExpires\u001b[0m: Thu, 27 Aug 2020 03:28:17 GMT\n",
      "\u001b[1mCache-Control\u001b[0m: max-age=600\n",
      "\u001b[1mX-Proxy-Cache\u001b[0m: MISS\n",
      "\u001b[1mX-GitHub-Request-Id\u001b[0m: 8BD4:56E0:69A9C:76552:5F4725F9\n",
      "\u001b[1mAccept-Ranges\u001b[0m: bytes\n",
      "\u001b[1mDate\u001b[0m: Thu, 27 Aug 2020 05:24:36 GMT\n",
      "\u001b[1mVia\u001b[0m: 1.1 varnish\n",
      "\u001b[1mAge\u001b[0m: 0\n",
      "\u001b[1mX-Served-By\u001b[0m: cache-sea4452-SEA\n",
      "\u001b[1mX-Cache\u001b[0m: HIT\n",
      "\u001b[1mX-Cache-Hits\u001b[0m: 1\n",
      "\u001b[1mX-Timer\u001b[0m: S1598505877.860495,VS0,VE75\n",
      "\u001b[1mVary\u001b[0m: Accept-Encoding\n",
      "\u001b[1mX-Fastly-Request-ID\u001b[0m: 25a940113e23907c7678c0d7eb714f2434a7a5ba\n",
      "\n"
     ]
    }
   ],
   "source": [
    "!ls /tmp/missing -l  # seems like the file doesn't have permission for execute (no -x bit)\n",
    "!sh /tmp/missing/semester\n",
    "# based on stackoverflow, doing /tmp/missing/semeseter requires semester to have both the read (r) and execute (x) bit\n",
    "# whereas the sh command opens the sh interpreter and `semester` is being treated as an input\n",
    "# as long as the `semester` has the read bit, then the sh interpreter should be able to execute it "
   ]
  },
  {
   "cell_type": "code",
   "execution_count": 18,
   "metadata": {},
   "outputs": [
    {
     "name": "stdout",
     "output_type": "stream",
     "text": [
      "CHMOD(1)                         User Commands                        CHMOD(1)\r\n",
      "\r\n",
      "N\bNA\bAM\bME\bE\r\n",
      "       chmod - change file mode bits\r\n",
      "\r\n",
      "S\bSY\bYN\bNO\bOP\bPS\bSI\bIS\bS\r\n",
      "       c\bch\bhm\bmo\bod\bd [_\bO_\bP_\bT_\bI_\bO_\bN]... _\bM_\bO_\bD_\bE[_\b,_\bM_\bO_\bD_\bE]... _\bF_\bI_\bL_\bE...\r\n",
      "       c\bch\bhm\bmo\bod\bd [_\bO_\bP_\bT_\bI_\bO_\bN]... _\bO_\bC_\bT_\bA_\bL_\b-_\bM_\bO_\bD_\bE _\bF_\bI_\bL_\bE...\r\n",
      "       c\bch\bhm\bmo\bod\bd [_\bO_\bP_\bT_\bI_\bO_\bN]... _\b-_\b-_\br_\be_\bf_\be_\br_\be_\bn_\bc_\be_\b=_\bR_\bF_\bI_\bL_\bE _\bF_\bI_\bL_\bE...\r\n",
      "\r\n",
      "D\bDE\bES\bSC\bCR\bRI\bIP\bPT\bTI\bIO\bON\bN\r\n",
      "       This manual page documents the GNU version of c\bch\bhm\bmo\bod\bd.  c\bch\bhm\bmo\bod\bd changes the\r\n",
      "       file mode bits of each given file  according  to  _\bm_\bo_\bd_\be,  which  can  be\r\n",
      "       either a symbolic representation of changes to make, or an octal number\r\n",
      "       representing the bit pattern for the new mode bits.\r\n",
      "\r\n",
      "       The format of a symbolic mode is  [u\bug\bgo\boa\ba...][[-\b-+\b+=\b=][_\bp_\be_\br_\bm_\bs...]...],  where\r\n",
      "       _\bp_\be_\br_\bm_\bs  is  either zero or more letters from the set r\brw\bwx\bxX\bXs\bst\bt, or a single\r\n",
      "       letter from the set u\bug\bgo\bo.  Multiple symbolic modes can be  given,  sepa‐\r\n",
      "       rated by commas.\r\n",
      "\r\n",
      "       A  combination  of the letters u\bug\bgo\boa\ba controls which users' access to the\r\n",
      "       file will be changed: the user who owns it  (u\bu),  other  users  in  the\r\n",
      "       file's group (g\bg), other users not in the file's group (o\bo), or all users\r\n",
      "       (a\ba).  If none of these are given, the effect is as if (a\ba)  were  given,\r\n",
      "       but bits that are set in the umask are not affected.\r\n",
      "\r\n",
      "       The  operator  +\b+  causes the selected file mode bits to be added to the\r\n",
      "       existing file mode bits of each file; -\b- causes them to be removed;  and\r\n",
      "       =\b=  causes  them  to  be added and causes unmentioned bits to be removed\r\n",
      "       except that a directory's unmentioned set user and group  ID  bits  are\r\n",
      "       not affected.\r\n",
      "\r\n",
      "       The  letters  r\brw\bwx\bxX\bXs\bst\bt select file mode bits for the affected users: read\r\n",
      "       (r\br), write (w\bw), execute (or search for directories) (x\bx), execute/search\r\n",
      "       only  if  the file is a directory or already has execute permission for\r\n",
      "       some user (X\bX), set user or group ID on execution (s\bs), restricted  dele‐\r\n",
      "       tion  flag or sticky bit (t\bt).  Instead of one or more of these letters,\r\n",
      "       you can specify exactly one of the letters u\bug\bgo\bo: the permissions granted\r\n",
      "       to  the  user  who  owns the file (u\bu), the permissions granted to other\r\n",
      "       users who are members of the file's  group  (g\bg),  and  the  permissions\r\n",
      "       granted  to  users  that are in neither of the two preceding categories\r\n",
      "       (o\bo).\r\n",
      "\r\n",
      "       A numeric mode is from one to  four  octal  digits  (0-7),  derived  by\r\n",
      "       adding up the bits with values 4, 2, and 1.  Omitted digits are assumed\r\n",
      "       to be leading zeros.  The first digit selects the set user ID  (4)  and\r\n",
      "       set group ID (2) and restricted deletion or sticky (1) attributes.  The\r\n",
      "       second digit selects permissions for the user who owns the  file:  read\r\n",
      "       (4),  write  (2),  and  execute  (1); the third selects permissions for\r\n",
      "       other users in the file's group, with the same values; and  the  fourth\r\n",
      "       for other users not in the file's group, with the same values.\r\n",
      "\r\n",
      "       c\bch\bhm\bmo\bod\bd never changes the permissions of symbolic links; the c\bch\bhm\bmo\bod\bd system\r\n",
      "       call cannot change their permissions.  This is not a problem since  the\r\n",
      "       permissions  of  symbolic links are never used.  However, for each sym‐\r\n",
      "       bolic link listed on the command line, c\bch\bhm\bmo\bod\bd changes the permissions of\r\n",
      "       the pointed-to file.  In contrast, c\bch\bhm\bmo\bod\bd ignores symbolic links encoun‐\r\n",
      "       tered during recursive directory traversals.\r\n",
      "\r\n",
      "S\bSE\bET\bTU\bUI\bID\bD A\bAN\bND\bD S\bSE\bET\bTG\bGI\bID\bD B\bBI\bIT\bTS\bS\r\n",
      "       c\bch\bhm\bmo\bod\bd clears the set-group-ID bit of a regular file if the file's group\r\n",
      "       ID  does  not  match the user's effective group ID or one of the user's\r\n",
      "       supplementary group IDs, unless the user  has  appropriate  privileges.\r\n",
      "       Additional restrictions may cause the set-user-ID and set-group-ID bits\r\n",
      "       of _\bM_\bO_\bD_\bE or _\bR_\bF_\bI_\bL_\bE to be ignored.  This behavior depends  on  the  policy\r\n",
      "       and  functionality of the underlying c\bch\bhm\bmo\bod\bd system call.  When in doubt,\r\n",
      "       check the underlying system behavior.\r\n",
      "\r\n",
      "       c\bch\bhm\bmo\bod\bd preserves a directory's set-user-ID and set-group-ID bits  unless\r\n",
      "       you  explicitly  specify otherwise.  You can set or clear the bits with\r\n",
      "       symbolic modes like u\bu+\b+s\bs and g\bg-\b-s\bs, and you can set (but  not  clear)  the\r\n",
      "       bits with a numeric mode.\r\n",
      "\r\n",
      "R\bRE\bES\bST\bTR\bRI\bIC\bCT\bTE\bED\bD D\bDE\bEL\bLE\bET\bTI\bIO\bON\bN F\bFL\bLA\bAG\bG O\bOR\bR S\bST\bTI\bIC\bCK\bKY\bY B\bBI\bIT\bT\r\n",
      "       The  restricted  deletion  flag  or  sticky  bit is a single bit, whose\r\n",
      "       interpretation depends on the file type.  For directories, it  prevents\r\n",
      "       unprivileged  users  from  removing or renaming a file in the directory\r\n",
      "       unless they  own  the  file  or  the  directory;  this  is  called  the\r\n",
      "       _\br_\be_\bs_\bt_\br_\bi_\bc_\bt_\be_\bd  _\bd_\be_\bl_\be_\bt_\bi_\bo_\bn  _\bf_\bl_\ba_\bg  for the directory, and is commonly found on\r\n",
      "       world-writable directories like /\b/t\btm\bmp\bp.  For regular files on some  older\r\n",
      "       systems,  the  bit saves the program's text image on the swap device so\r\n",
      "       it will load more quickly when run; this is called the _\bs_\bt_\bi_\bc_\bk_\by _\bb_\bi_\bt.\r\n",
      "\r\n",
      "O\bOP\bPT\bTI\bIO\bON\bNS\bS\r\n",
      "       Change the mode of each FILE to MODE.   With  -\b--\b-r\bre\bef\bfe\ber\bre\ben\bnc\bce\be,  change  the\r\n",
      "       mode of each FILE to that of RFILE.\r\n",
      "\r\n",
      "       -\b-c\bc, -\b--\b-c\bch\bha\ban\bng\bge\bes\bs\r\n",
      "              like verbose but report only when a change is made\r\n",
      "\r\n",
      "       -\b-f\bf, -\b--\b-s\bsi\bil\ble\ben\bnt\bt, -\b--\b-q\bqu\bui\bie\bet\bt\r\n",
      "              suppress most error messages\r\n",
      "\r\n",
      "       -\b-v\bv, -\b--\b-v\bve\ber\brb\bbo\bos\bse\be\r\n",
      "              output a diagnostic for every file processed\r\n",
      "\r\n",
      "       -\b--\b-n\bno\bo-\b-p\bpr\bre\bes\bse\ber\brv\bve\be-\b-r\bro\boo\bot\bt\r\n",
      "              do not treat '/' specially (the default)\r\n",
      "\r\n",
      "       -\b--\b-p\bpr\bre\bes\bse\ber\brv\bve\be-\b-r\bro\boo\bot\bt\r\n",
      "              fail to operate recursively on '/'\r\n",
      "\r\n",
      "       -\b--\b-r\bre\bef\bfe\ber\bre\ben\bnc\bce\be=_\bR_\bF_\bI_\bL_\bE\r\n",
      "              use RFILE's mode instead of MODE values\r\n",
      "\r\n",
      "       -\b-R\bR, -\b--\b-r\bre\bec\bcu\bur\brs\bsi\biv\bve\be\r\n",
      "              change files and directories recursively\r\n",
      "\r\n",
      "       -\b--\b-h\bhe\bel\blp\bp display this help and exit\r\n",
      "\r\n",
      "       -\b--\b-v\bve\ber\brs\bsi\bio\bon\bn\r\n",
      "              output version information and exit\r\n",
      "\r\n",
      "       Each           MODE           is          of          the          form\r\n",
      "       '[ugoa]*([-+=]([rwxXst]*|[ugo]))+|[-+=][0-7]+'.\r\n",
      "\r\n",
      "A\bAU\bUT\bTH\bHO\bOR\bR\r\n",
      "       Written by David MacKenzie and Jim Meyering.\r\n",
      "\r\n",
      "R\bRE\bEP\bPO\bOR\bRT\bTI\bIN\bNG\bG B\bBU\bUG\bGS\bS\r\n",
      "       GNU coreutils online help: <http://www.gnu.org/software/coreutils/>\r\n",
      "       Report chmod translation bugs to <http://translationproject.org/team/>\r\n",
      "\r\n",
      "C\bCO\bOP\bPY\bYR\bRI\bIG\bGH\bHT\bT\r\n",
      "       Copyright © 2017 Free Software Foundation, Inc.   License  GPLv3+:  GNU\r\n",
      "       GPL version 3 or later <http://gnu.org/licenses/gpl.html>.\r\n",
      "       This  is  free  software:  you  are free to change and redistribute it.\r\n",
      "       There is NO WARRANTY, to the extent permitted by law.\r\n",
      "\r\n",
      "S\bSE\bEE\bE A\bAL\bLS\bSO\bO\r\n",
      "       chmod(2)\r\n",
      "\r\n",
      "       Full documentation at: <http://www.gnu.org/software/coreutils/chmod>\r\n",
      "       or available locally via: info '(coreutils) chmod invocation'\r\n",
      "\r\n",
      "GNU coreutils 8.28               January 2018                         CHMOD(1)\r\n"
     ]
    }
   ],
   "source": [
    "!man chmod"
   ]
  },
  {
   "cell_type": "markdown",
   "metadata": {},
   "source": [
    "when the shebang character `#!` was encountered, the loader would interpret the rest of the line as an interpreter directive, in this case, the interpreter program was specified as `/bin/sh`, so program loader would run `/bin/sh` and pass `/tmp/missing/semester` as a argument to the interpreter"
   ]
  },
  {
   "cell_type": "code",
   "execution_count": 21,
   "metadata": {
    "scrolled": true
   },
   "outputs": [
    {
     "name": "stdout",
     "output_type": "stream",
     "text": [
      "total 4\n",
      "-rwxr--r-- 1 lukezhu lukezhu 61 Aug 26 22:22 semester\n",
      "HTTP/1.1 200 OK\n",
      "\u001b[1mConnection\u001b[0m: keep-alive\n",
      "\u001b[1mContent-Length\u001b[0m: 7731\n",
      "\u001b[1mServer\u001b[0m: GitHub.com\n",
      "\u001b[1mContent-Type\u001b[0m: text/html; charset=utf-8\n",
      "\u001b[1mLast-Modified\u001b[0m: Thu, 20 Aug 2020 00:59:16 GMT\n",
      "\u001b[1mETag\u001b[0m: \"5f3dcae4-1e33\"\n",
      "\u001b[1mAccess-Control-Allow-Origin\u001b[0m: *\n",
      "\u001b[1mExpires\u001b[0m: Thu, 27 Aug 2020 05:42:24 GMT\n",
      "\u001b[1mCache-Control\u001b[0m: max-age=600\n",
      "\u001b[1mX-Proxy-Cache\u001b[0m: MISS\n",
      "\u001b[1mX-GitHub-Request-Id\u001b[0m: ECB0:3E3A:F806E:135B2F:5F474568\n",
      "\u001b[1mAccept-Ranges\u001b[0m: bytes\n",
      "\u001b[1mDate\u001b[0m: Thu, 27 Aug 2020 05:32:24 GMT\n",
      "\u001b[1mVia\u001b[0m: 1.1 varnish\n",
      "\u001b[1mAge\u001b[0m: 0\n",
      "\u001b[1mX-Served-By\u001b[0m: cache-yvr1534-YVR\n",
      "\u001b[1mX-Cache\u001b[0m: MISS\n",
      "\u001b[1mX-Cache-Hits\u001b[0m: 0\n",
      "\u001b[1mX-Timer\u001b[0m: S1598506345.671875,VS0,VE80\n",
      "\u001b[1mVary\u001b[0m: Accept-Encoding\n",
      "\u001b[1mX-Fastly-Request-ID\u001b[0m: 678e873dd548a1ad279f3ba484cdedd64d121411\n",
      "\n"
     ]
    }
   ],
   "source": [
    "!chmod u+x /tmp/missing/semester\n",
    "!ls  -l /tmp/missing\n",
    "!/tmp/missing/semester\n",
    "# u+x meants adding the execute bit to for user"
   ]
  },
  {
   "cell_type": "code",
   "execution_count": null,
   "metadata": {},
   "outputs": [],
   "source": []
  }
 ],
 "metadata": {
  "kernelspec": {
   "display_name": "Python 3",
   "language": "python",
   "name": "python3"
  },
  "language_info": {
   "codemirror_mode": {
    "name": "ipython",
    "version": 3
   },
   "file_extension": ".py",
   "mimetype": "text/x-python",
   "name": "python",
   "nbconvert_exporter": "python",
   "pygments_lexer": "ipython3",
   "version": "3.7.6"
  }
 },
 "nbformat": 4,
 "nbformat_minor": 2
}
