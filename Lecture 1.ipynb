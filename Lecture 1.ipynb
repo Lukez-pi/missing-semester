{
 "cells": [
  {
   "cell_type": "markdown",
   "metadata": {},
   "source": [
    "shell is a program, that is used for starting other applications (cd, mkdir, etc.), processes commands and returns output. (for example, bash)\n",
    "\n",
    "console is a physical device, like a keyboard or mouse\n",
    "\n",
    "command line is an interface, opposite to a graphical user interface, CLI takes input from the keyboard and GUI takes input from the mouse "
   ]
  },
  {
   "cell_type": "markdown",
   "metadata": {},
   "source": [
    "Environment variables are things that are set everytime we run the shell, helps the shell determine where all the programs such as 'cd', 'mkdir' are, everytime we run a program, bash will search though all the paths under $PATH"
   ]
  },
  {
   "cell_type": "code",
   "execution_count": 3,
   "metadata": {},
   "outputs": [
    {
     "name": "stdout",
     "output_type": "stream",
     "text": [
      "$PATH\n"
     ]
    }
   ],
   "source": [
    "!echo $PATH"
   ]
  },
  {
   "cell_type": "markdown",
   "metadata": {},
   "source": [
    "To determine the directory of the program, use 'which'"
   ]
  },
  {
   "cell_type": "code",
   "execution_count": 4,
   "metadata": {},
   "outputs": [
    {
     "name": "stderr",
     "output_type": "stream",
     "text": [
      "'which' is not recognized as an internal or external command,\n",
      "operable program or batch file.\n"
     ]
    }
   ],
   "source": [
    "!which echo"
   ]
  },
  {
   "cell_type": "markdown",
   "metadata": {},
   "source": [
    "cd ~ brings you back to the home directory\n",
    "\n",
    "cd - brings you to the previous directory (super helpful!)"
   ]
  },
  {
   "cell_type": "markdown",
   "metadata": {},
   "source": [
    " ... means 1 or more, [] means optional \n",
    "so `ls [OPTION]... [FILE]...` means optional number of options, and optional number of files\n",
    "\n",
    "option vs flag, flag doesn't take a value, but option does"
   ]
  },
  {
   "cell_type": "markdown",
   "metadata": {},
   "source": [
    "when we do `ls -l`, it provides us with extra information, in the first column, we might see something like `-rw-r--r--`, the first `-` indicates that it is a file, if it is a directory, it will be replaced with `d` instead. Then the following three characters `rw-` are the permissions allowed on the file/directory for the owner of the file, the next three characters `r--` are the permissions for the group that owns the file, and the last three characters are `r--` are the permissions for everyone else.\n",
    "\n",
    "The groups of three characters are ordered by:\n",
    "`r` - read\n",
    "\n",
    "`w` - write\n",
    "\n",
    "`x` - execute\n",
    "\n",
    "`-` means the corresponding permission is not granted\n",
    "\n",
    "For directories though, read, write and execute means something different:\n",
    "\n",
    "read means whether being able to see what's inside the directory (equivalent to list the directory)\n",
    "\n",
    "write means whether being to delete or rename what's in the directory\n",
    "\n",
    "execute, is also known as 'search', indicates whether we are able to enter the directory, so in order to be able to list, rename... files of the directory, the directory must grant `x` permission"
   ]
  },
  {
   "cell_type": "markdown",
   "metadata": {},
   "source": [
    "## Some commands"
   ]
  },
  {
   "cell_type": "markdown",
   "metadata": {},
   "source": [
    "`mv` allows us to rename a file, or rename and move it to a new directory\n",
    "\n",
    "`cp $from_dir $to_dir`\n",
    "\n",
    "`cat` prints the content of a file\n",
    "\n",
    "`tail -n1` prints the last line of an input\n",
    "\n",
    "`tee` takes an input and writes it to a file, and also to stdout, `tee` can be quite useful, if we want to not only print out the outputs of a command to file, but also further pipe it to the next command, for example `foo | tee file.txt | bar`. If we compared `echo 1 > output.txt` vs `echo 1 | tee output.txt`, both command writes 1 to `output.txt`, but `tee` prints `1` to the terminal as well."
   ]
  },
  {
   "cell_type": "markdown",
   "metadata": {},
   "source": [
    "`man $program` to get a nicer version of `--help`, press `q` to exit the `man` program\n",
    "\n",
    "and Ctrl+L to clear the shell"
   ]
  },
  {
   "cell_type": "markdown",
   "metadata": {},
   "source": [
    "## Combining different programs"
   ]
  },
  {
   "cell_type": "markdown",
   "metadata": {},
   "source": [
    "Every program has two primary streams (input & output), by default, these streams are the terminal, that's why `echo hello` prints `hello` back to the terminal. The shell gives us more power on specifying the input and output streams:\n",
    "\n",
    "`<` rewires the input stream, so for example, `cat < file` rewires the content of the file to the `cat` program, and `> files` rewires the output stream to the file\n",
    "\n",
    "`>>` means append, instead of overwrite\n",
    "\n",
    "`|` takes the output of the program to the left and makes it the input to the program on the right, so `ls -l / | tail -n1` prints only the last line of the `ls -l \\` command. Pipe is just for texts, we can also use it on images(!!)"
   ]
  },
  {
   "cell_type": "markdown",
   "metadata": {},
   "source": [
    "## Root user on Linux"
   ]
  },
  {
   "cell_type": "markdown",
   "metadata": {},
   "source": [
    "Root user on Linux has an id 0, can do whatever it wants (superuser), usually we are not the root user, because we can accidentally run the wrong program and destroy the computer, `sudo` allows us to run a program as the superuser (superuser do)\n",
    "\n",
    "In the class, the TA brought up the example `echo 500 > brightness`, in which case we would attempt to change the brightness of the screen, but we were denied permission, the solution to this problem however, will not be `sudo echo 500 > brightness`, because programs don't know about where the redirections of inputs and outputs (`>`, `<`, `|`) came from, for example, in the command:\n",
    "\n",
    "`ls -l \\ | tail -n1`\n",
    "\n",
    "`tail` doesn't know about `ls`, neither does `ls` knows about `tail`, all the redirection was taken care of by the shell, so when we run `sudo echo 500 > brightness`, `brightness` doesn't know about `sudo` as the input stream `sudo echo 500` was redirected through the shell, and the `brightness` program is not being opened by `sudo` as a result.\n",
    "\n",
    "Personal comment: The reason why `echo 500 | brightness` wouldn't work is because `brightness` is a file, not a command, so piping a stream to a file wouldn't make sense\n",
    "\n",
    "One way we can solve this is to attach `#` symbol in front (`# echo 1 > ....`), `#` indicates 'run this as root'. The `$` sign that we see in the terminal indicates that we are not running the following command as root. \n",
    "\n",
    "We can also do `sudo su`, which gives us a shell as the superuser (kind of like running the Command Prompt in Windows as administrator\n",
    "\n",
    "Or, we can do `echo 1000| sudo tee brightness`, so we run `tee` as root, and write the output into the brightness file\n",
    "\n",
    "I wonder if I can do `sudo cat brightness`"
   ]
  },
  {
   "cell_type": "markdown",
   "metadata": {},
   "source": [
    "## Opening a file"
   ]
  },
  {
   "cell_type": "markdown",
   "metadata": {},
   "source": [
    "In Linux, `xdg-open`, in Mac, `open`, and it will open it in the appropriate program (recall last time I cd'ed into `\\` and ran `xdg-open .`."
   ]
  }
 ],
 "metadata": {
  "kernelspec": {
   "display_name": "Python 3",
   "language": "python",
   "name": "python3"
  },
  "language_info": {
   "codemirror_mode": {
    "name": "ipython",
    "version": 3
   },
   "file_extension": ".py",
   "mimetype": "text/x-python",
   "name": "python",
   "nbconvert_exporter": "python",
   "pygments_lexer": "ipython3",
   "version": "3.7.3"
  }
 },
 "nbformat": 4,
 "nbformat_minor": 2
}
