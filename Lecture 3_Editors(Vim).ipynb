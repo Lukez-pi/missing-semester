{
 "cells": [
  {
   "cell_type": "markdown",
   "metadata": {},
   "source": [
    "## Notation\n",
    "Ctrl-V can also be written as `^V` or `<C-V>`"
   ]
  },
  {
   "cell_type": "markdown",
   "metadata": {},
   "source": [
    "Vim has multiple operating modes for doing different things, \n",
    "normal mode -> i -> insert mode\n",
    "insert mode -> esc -> normal mode\n",
    "\n",
    "There's also `replace` mode, `visual` mode, `visual --line`, `visual --block`, `command line`\n",
    "\n",
    "Normal mode is used to navigate between files\n",
    "\n",
    "Insert mode is used to edit the file\n",
    "\n",
    "Since going back to `normal` mode requires pressing the `esc` key, many programmers rebinded the key back to `normal` mode to `Caps Lock`"
   ]
  },
  {
   "cell_type": "markdown",
   "metadata": {},
   "source": [
    "We can do everything in Vim using keyboards only, for example, to quit the file, what we need to do first (if we are in `insert` mode) is to switch back to `normal` mode through `esc`, and then enter the `command line` mode, after which typing `quit` or `q` will allow us to exit Vim\n",
    "\n",
    "Save: `:w` (`:` to enter the `command line` mode, `w` stands for write)\n",
    "Help: `:help [some_command]`, for example `:help :w` (Remember that `:help w` is different from `:help :w`)"
   ]
  },
  {
   "cell_type": "markdown",
   "metadata": {},
   "source": [
    "## Notion of tabs, files, windows in Vim\n",
    "Vim calls the set of open files 'open buffers', the different thing about Vim is there isn't necessarily a 1-1 correspondence between buffers/files and windows, for example, 1 buffer can be opened in two windows (important point here is that window is not tab! the two windows will exist under the same tab, see the lecture for illustration), this is useful when we want to be jumping between and making edits at two different places of a file.\n",
    "\n",
    "`:q` does not actually quits the whole program, it just quits the current window, `:qa` quits all the current windows"
   ]
  },
  {
   "cell_type": "markdown",
   "metadata": {},
   "source": [
    "## Movement commands in normal mode\n",
    "`h``j``k``l` - left, down, up, right\n",
    "\n",
    "`w` moves cursor forward by 1 word (w-word)\n",
    "\n",
    "`b` moves cursor backward by 1 word (b-beginning of word), backward means to the left\n",
    "\n",
    "`e` to the end of a word (e-end of word)\n",
    "\n",
    "`0` to the beginning of the line\n",
    "\n",
    "`$` to the end of the line\n",
    "\n",
    "`^` to the first non-empty character on the line\n",
    "\n",
    "`<C-U>` scrolls up\n",
    "\n",
    "`<C-D>` scrolls down\n",
    "\n",
    "`G` moves to the end of a file\n",
    "\n",
    "`gg` moves to the beginning of a file\n",
    "\n",
    "`l` to the lowest line on the screen\n",
    "\n",
    "`h` to the highest line on the screen\n",
    "\n",
    "`m` to the middle of the screen\n",
    "\n",
    "`f`+`char`: finds/jumps onto the first appearance of the character after the cursor\n",
    "\n",
    "Note: don't have to press `f` and the `char` at the same time, it's ok to type one character at a time\n",
    "\n",
    "`F`+`char`: finds/jumps onto the first appearance of the character before the cursor\n",
    "\n",
    "`t`+`char`: jump to the first appearance of the character after the cursor (one character before)\n",
    "\n",
    "`T`+`char`: similar to `F`+`char`"
   ]
  },
  {
   "cell_type": "markdown",
   "metadata": {},
   "source": [
    "## Editing Commands under `normal` mode \n",
    "`o` opens a new line under where the cursor is and enters `insert` mode\n",
    "\n",
    "`O` opens a new line above the cursor and enters `insert` mode\n",
    "\n",
    "`dw` deletes the entire word where the cursor is, remains in `normal` mode\n",
    "\n",
    "`de` deletes the characters from where the cursor is to the end of the word, remains in `normal` mode\n",
    "\n",
    "`u` undo\n",
    "\n",
    "`<C-R>` redo\n",
    "\n",
    "`c` stands for change, `ce` is analogous to `de`, but additionally, it puts the user under `insert` mode\n",
    "\n",
    "If we press the same character twice, the effect will be applied to the entire line, so for example `dd` deletes the entire line, `cc` also does the same thing while putting us under `insert` mode\n",
    "\n",
    "`x` deletes the character\n",
    "\n",
    "`r` + `char` replaces the character with `char` \n",
    "\n",
    "`y` for copy (y for yank), `yw` to copy the word, `yy` to copy the entire line\n",
    "\n",
    "`p` for paste "
   ]
  },
  {
   "cell_type": "markdown",
   "metadata": {},
   "source": [
    "## Visual mode\n",
    "press `v` from `normal` mode to enter `visual` mode. Most of the commands that work under `normal` mode will also work under `visual` mode, the main difference is we can select text under `visual`. So if we press `wwww`, it will select the four words starting from the cursor forward, and then if we press `y`, these four words will now be copied\n",
    "\n",
    "If we enter `visual --line` mode through `V`, it will select lines at a time, for example, `k` in `normal mode` moves the cursor up, so if we press `k` in `visual --line` mode, it will select the line above, and then there's `visual --block` mode."
   ]
  },
  {
   "cell_type": "markdown",
   "metadata": {},
   "source": [
    "## Count commands in normal mode\n",
    "Instead of pressing `k` four times to move the cursor up by 4 lines, we can do `4k` instead. We can set up our Vim interface to display the relative line numbers to take full advantage of this count+movement combination\n",
    "\n",
    "We can further combine the count commands with editing commands, so for example `7de` will delete 7 words"
   ]
  },
  {
   "cell_type": "markdown",
   "metadata": {},
   "source": [
    "## Modifiers\n",
    "Changes the meaning of the movement command\n",
    "`a` - around, `da(` - deletes everything between and including the brackets\n",
    "`i` - inside, example: `ci[` - change content inside the brackets"
   ]
  }
 ],
 "metadata": {
  "kernelspec": {
   "display_name": "Python 3",
   "language": "python",
   "name": "python3"
  },
  "language_info": {
   "codemirror_mode": {
    "name": "ipython",
    "version": 3
   },
   "file_extension": ".py",
   "mimetype": "text/x-python",
   "name": "python",
   "nbconvert_exporter": "python",
   "pygments_lexer": "ipython3",
   "version": "3.7.3"
  }
 },
 "nbformat": 4,
 "nbformat_minor": 2
}
