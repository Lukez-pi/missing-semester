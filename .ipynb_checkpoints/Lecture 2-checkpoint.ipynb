{
 "cells": [
  {
   "cell_type": "markdown",
   "metadata": {},
   "source": [
    "Need to be aware of spaces when defining variables, recall spaces are used to separate options/flags, so doing `foo=bar` will work, whereas `foo = bar` will return an error (it is interpreted as calling the `foo` program, with `=` as the first argument and `bar` as the second argument)"
   ]
  },
  {
   "cell_type": "markdown",
   "metadata": {},
   "source": [
    "We can put functions into files, execute and load it into the shell by `source`\n",
    "\n",
    "file `mcd.sh`:\n",
    "```\n",
    "mcd() {\n",
    "    mkdir \"$1\"\n",
    "    cd \"$1\"\n",
    "   }\n",
    "```\n",
    "sourcing it in shell:\n",
    "`source mcd.sh`"
   ]
  },
  {
   "cell_type": "markdown",
   "metadata": {},
   "source": [
    "`$_`: last argument of the previous command, this can be handy at times, for example creating a directory and changing directory to it:\n",
    "```\n",
    "mkdir test\n",
    "cd $_\n",
    "```\n",
    "\n",
    "`$@`: expands to all arguments, handy when we don't know how many arguments there will be beforehand, example: `for file in \"$@\"; do`\n",
    "\n",
    "`$#`: number of arguments\n",
    "\n",
    "`$$`: process id\n",
    "\n",
    "`$?`: error message of the previous command, if `echo $?` returned 0, it meant the previous command executed successfully\n",
    "\n",
    "`$0`: name of the script\n",
    "\n",
    "`$1`~`$9`: first to the 9th command\n",
    "\n",
    "Another command that might come in handy is `!!`, for example, if we were to do something but was denied permission, then we can do:\n",
    "\n",
    "```mkdir /directory/with/no/permission\n",
    "sudo !!```\n",
    "\n",
    "The `!!` will be replaced with the previous command"
   ]
  },
  {
   "cell_type": "markdown",
   "metadata": {},
   "source": [
    "Getting the output of a command into a variable:"
   ]
  },
  {
   "cell_type": "code",
   "execution_count": 1,
   "metadata": {},
   "outputs": [
    {
     "name": "stdout",
     "output_type": "stream",
     "text": [
      "we are in /home/lukezhu/Code/missing-semester\r\n"
     ]
    }
   ],
   "source": [
    "!foo=$(pwd)\n",
    "!echo \"we are in $(pwd)\""
   ]
  },
  {
   "cell_type": "markdown",
   "metadata": {},
   "source": [
    "### Process substitution:\n",
    "`<(some_command)` makes the input or output of a command to appear as a file, this can come in handy for commands that doesn't take input from stdin but from files, for example, the following command concatenates the file names in the current and parent directory and prints it out on the terminal:"
   ]
  },
  {
   "cell_type": "code",
   "execution_count": 10,
   "metadata": {},
   "outputs": [
    {
     "name": "stdout",
     "output_type": "stream",
     "text": [
      "fine-scale-mutation-spectrum\n",
      "missing-semester\n",
      "mushi\n",
      "mushi_lz\n",
      "mut_R\n",
      "mutyper\n",
      "Lecture 1.ipynb\n",
      "Lecture 2.ipynb\n",
      "missing\n"
     ]
    }
   ],
   "source": [
    "%%bash\n",
    "cat <(ls ..) <(ls)"
   ]
  },
  {
   "cell_type": "markdown",
   "metadata": {},
   "source": [
    "Example used in class:\n",
    "```\n",
    "for file in \"$@\"; do\n",
    "    grep foobar \"$file\" > dev/null 2> /dev/null \n",
    "    if [[ \"$?\" -ne 0 ]]; then \n",
    "        echo \"File $file does not have any foobar\n",
    "    fi\n",
    "done\n",
    "```\n",
    "Note: the line `grep foobar \"$file\" > dev/null 2> /dev/null` meant we are not interested in the result from stdout and stderr, so we dump it to /dev/null, 2> is for stderr"
   ]
  },
  {
   "cell_type": "markdown",
   "metadata": {},
   "source": [
    "### Globbing:\n",
    "wildcard matching with `*`, we can also use `$` for a one character wildcard matching, for example, if we have directories called `project1`, `project2` and `project42`, and we only want the projects with single digits, then we do `project$`\n",
    "\n",
    "We can also use `{}`, for example, if we want to create files `foo1, foo2, foo10`, instead of typing all file names 1 by 1, we can just do `touch foo{1,2,10}`. If we do something like `touch project{1,2}/testP{1,2,3}.py`, then the shell will expand everything inside the curly braces into its cartesian product. We can also do things like `touch {foo, bar}/{a...j}`, in which case, the shell will create files `a` to `j` under the directory `foo` and `bar`"
   ]
  },
  {
   "cell_type": "markdown",
   "metadata": {},
   "source": [
    "### Shebang\n",
    "In the exercise from lecture 1, we already knew that #! will specify the interpreter directory, so that's why in Python scripts, we commonly see the first line as something similar to `#!usr/local/bin/python`, but what if we don't know where the `python` interpreter is, then we can try \n",
    "\n",
    "`#!usr/bin/env python`\n",
    "\n",
    "instead, in this case, we make use of the `env` variable, and attempt to search for `python` in the `env`"
   ]
  },
  {
   "cell_type": "markdown",
   "metadata": {},
   "source": [
    "### Shellcheck\n",
    "Shellcheck helps check your file, finds if there are any errors and gives warning, usage:\n",
    "\n",
    "`shellcheck some_file`"
   ]
  },
  {
   "cell_type": "markdown",
   "metadata": {},
   "source": [
    "### tldr\n",
    "Last lecture, we learned about using `man` to access the manual, but sometimes the manual is very long, and instead there is this other program called `tldr` that we can download, and it gives more succint instructions on how to run a program, usage:\n",
    "\n",
    "`tldr some_command`"
   ]
  },
  {
   "cell_type": "markdown",
   "metadata": {},
   "source": [
    "### How to find files\n",
    "`find`, example: \n",
    "\n",
    "`find . -name src -type d`, `.` means the current directory, `d` means we want to find directories\n",
    "\n",
    "`find . -path **/yest/*.py`, `**` means some number of folders\n",
    "\n",
    "`find . -mtime -1`, `-mtime` stands for the the time the file was modified (in the unit of days)\n",
    "\n",
    "We can also execute commands after we find the files:\n",
    "\n",
    "`find . -name *.tmp -exec rm {} \\;`"
   ]
  },
  {
   "cell_type": "markdown",
   "metadata": {},
   "source": [
    "### More on grep\n",
    "We can search recursively through a directory with `grep` using the `-R` flag, a potential use case for this is when we have multiple code files under a directory, and we want to find which file contained the function that we wrote 2 months ago, then running the `grep -R function_name .` command can help us with it.\n",
    "\n",
    "There is also another similar library called `ripgrep` that has better syntax highlighting, more flags...., for example:\n",
    "\n",
    "`rg -u --files-without-match \"^#/!\" -t sh`, `-u` means don't ignore hidden files, and the command finds all the `sh` files that doesn't have a shebang."
   ]
  },
  {
   "cell_type": "markdown",
   "metadata": {},
   "source": [
    "### Finding commands\n",
    "Ctrl+R: enters recall mode to search for commands that we have previous used, for example, if we want to find all the `grep` commands that we have used befor, then Ctrl+R, `grep` and keeping hitting the uparrow key until we find what we want. \n",
    "\n",
    "We can also use the `history` command, to start from the history of the first command, do `history 1`, and then we can further pipe this to perhaps `grep` to refine our search, such as `history 1 | grep grep`"
   ]
  },
  {
   "cell_type": "markdown",
   "metadata": {},
   "source": [
    "### Exercise 1:\n",
    "Read `man ls` and write an `ls` command that lists files in the following manner\n",
    "- Includes all files, including hidden files\n",
    "- Sizes are listed in human readable format (e.g. 454M instead of 454279954)\n",
    "- Files are ordered by recency\n",
    "- Output is colorized"
   ]
  },
  {
   "cell_type": "code",
   "execution_count": 48,
   "metadata": {
    "scrolled": true
   },
   "outputs": [
    {
     "name": "stdout",
     "output_type": "stream",
     "text": [
      "       -h, --human-readable\n",
      "              with -l and/or -s, print human readable sizes (e.g., 1K 234M 2G)\n",
      "       --color[=WHEN]\n",
      "              colorize  the output; WHEN can be 'always' (default if omitted),\n",
      "       -f     do not sort, enable -aU, disable -ls --color\n",
      "       Using  color  to distinguish file types is disabled both by default and\n",
      "       with --color=never.  With --color=auto, ls emits color codes only  when\n",
      "       variable can change the settings.  Use the dircolors command to set it.\n",
      "       --file-type\n",
      "       --full-time\n",
      "              like -l --time-style=full-iso\n",
      "       --dereference-command-line-symlink-to-dir\n",
      "              slash (-p), file-type (--file-type), classify (-F)\n",
      "              sort  by  WORD instead of name: none (-U), size (-S), time (-t),\n",
      "       --time=WORD\n",
      "       --time-style=STYLE\n",
      "       -t     sort by modification time, newest first\n",
      "       -T, --tabsize=COLS\n",
      "total 64K\n",
      "drwxr-xr-x 5 lukezhu lukezhu 4.0K Aug 27 11:21 \u001b[0m\u001b[01;34m.\u001b[0m\n",
      "-rw-r--r-- 1 lukezhu lukezhu  11K Aug 27 11:21 Lecture 2.ipynb\n",
      "drwxr-xr-x 8 lukezhu lukezhu 4.0K Aug 27 11:05 \u001b[01;34m.git\u001b[0m\n",
      "drwxr-xr-x 2 lukezhu lukezhu 4.0K Aug 27 11:05 \u001b[01;34m.ipynb_checkpoints\u001b[0m\n",
      "-rw-r--r-- 1 lukezhu lukezhu  30K Aug 27 08:33 Lecture 1.ipynb\n",
      "drwxr-xr-x 2 lukezhu lukezhu 4.0K Aug 26 22:19 \u001b[01;34mmissing\u001b[0m\n",
      "drwxr-xr-x 8 lukezhu lukezhu 4.0K Aug 26 22:11 \u001b[01;34m..\u001b[0m\n",
      "\n",
      "for a shorter command \n",
      "total 64K\n",
      "drwxr-xr-x 5 lukezhu lukezhu 4.0K Aug 27 11:21 \u001b[0m\u001b[01;34m.\u001b[0m\n",
      "-rw-r--r-- 1 lukezhu lukezhu  11K Aug 27 11:21 Lecture 2.ipynb\n",
      "drwxr-xr-x 8 lukezhu lukezhu 4.0K Aug 27 11:05 \u001b[01;34m.git\u001b[0m\n",
      "drwxr-xr-x 2 lukezhu lukezhu 4.0K Aug 27 11:05 \u001b[01;34m.ipynb_checkpoints\u001b[0m\n",
      "-rw-r--r-- 1 lukezhu lukezhu  30K Aug 27 08:33 Lecture 1.ipynb\n",
      "drwxr-xr-x 2 lukezhu lukezhu 4.0K Aug 26 22:19 \u001b[01;34mmissing\u001b[0m\n",
      "drwxr-xr-x 8 lukezhu lukezhu 4.0K Aug 26 22:11 \u001b[01;34m..\u001b[0m\n"
     ]
    }
   ],
   "source": [
    "%%bash\n",
    "man ls | grep human -\n",
    "man ls | grep color -\n",
    "man ls | grep \\\\-t -\n",
    "ls --color=always -a -c -l -t -h \n",
    "# to reverse sort, use -r\n",
    "printf \"\\nfor a shorter command \\n\"\n",
    "ls --color=always -alth"
   ]
  },
  {
   "cell_type": "markdown",
   "metadata": {},
   "source": [
    "### Exercise 2\n",
    "Write bash functions `marco` and `polo` that do the following. Whenever you execute `marco` the current working directory should be saved in some manner, then when you execute `polo`, no matter what directory you are in, `polo` should `cd` you back to the directory where you executed `marco`. For ease of debugging you can write the code in a file `marco.sh` and (re)load the definitions to your shell by executing source `marco.sh`."
   ]
  },
  {
   "cell_type": "code",
   "execution_count": 103,
   "metadata": {},
   "outputs": [
    {
     "name": "stdout",
     "output_type": "stream",
     "text": [
      "/home/lukezhu/Code/missing-semester\n",
      "/home/lukezhu/Code/missing-semester/lecture2_exercises\n"
     ]
    }
   ],
   "source": [
    "%%bash\n",
    "# mkdir ./lecture2_exercises\n",
    "cd lecture2_exercises\n",
    "cat > marco.sh << 'EOF' # make sure to add single quotes around EOF to prevent variable from evaluating\n",
    "#!bin/bash\n",
    "marco() {\n",
    "    prev_dir=$(pwd)\n",
    "}\n",
    "\n",
    "polo() {\n",
    "    cd $prev_dir\n",
    "}\n",
    "EOF\n",
    "\n",
    "source ./marco.sh\n",
    "\n",
    "marco\n",
    "cd ..\n",
    "echo $(pwd)\n",
    "polo\n",
    "echo $(pwd)"
   ]
  },
  {
   "cell_type": "markdown",
   "metadata": {},
   "source": [
    "## Exercise 3\n",
    "Say you have a command that fails rarely. In order to debug it you need to capture its output but it can be time consuming to get a failure run. Write a bash script that runs the following script until it fails and captures its standard output and error streams to files and prints everything at the end. Bonus points if you can also report how many runs it took for the script to fail.\n",
    "```\n",
    "#!/usr/bin/env bash\n",
    "\n",
    " n=$(( RANDOM % 100 ))\n",
    "\n",
    " if [[ n -eq 42 ]]; then\n",
    "    echo \"Something went wrong\"\n",
    "    >&2 echo \"The error was using magic numbers\"\n",
    "    exit 1\n",
    " fi\n",
    "\n",
    " echo \"Everything went according to plan\"\n",
    "```"
   ]
  },
  {
   "cell_type": "code",
   "execution_count": 115,
   "metadata": {},
   "outputs": [
    {
     "name": "stdout",
     "output_type": "stream",
     "text": [
      "/home/lukezhu/Code/missing-semester\n"
     ]
    }
   ],
   "source": [
    "%%bash\n",
    "pwd\n",
    "cd lecture2_exercises\n",
    "cat >exercise3.sh <<'EOF'\n",
    "#!/usr/bin/env bash\n",
    "\n",
    "n=$(( RANDOM % 100 ))\n",
    "\n",
    "if [[ n -eq 42 ]]; then\n",
    "echo \"Something went wrong\"\n",
    ">&2 echo \"The error was using magic numbers\"\n",
    "exit 1\n",
    "fi\n",
    "\n",
    "echo \"Everything went according to plan\"\n",
    "EOF"
   ]
  },
  {
   "cell_type": "markdown",
   "metadata": {},
   "source": [
    "## Exercise 4\n",
    "As we covered in the lecture `find`’s `-exec` can be very powerful for performing operations over the files we are searching for. However, what if we want to do something with all the files, like creating a zip file? As you have seen so far commands will take input from both arguments and `STDIN`. When piping commands, we are connecting `STDOUT` to `STDIN`, but some commands like `tar` take inputs from arguments. To bridge this disconnect there’s the xargs command which will execute a command using `STDIN` as arguments. For example `ls | xargs rm` will delete the files in the current directory.\n",
    "\n",
    "Your task is to write a command that recursively finds all HTML files in the folder and makes a zip with them. Note that your command should work even if the files have spaces (hint: check -d flag for xargs)"
   ]
  },
  {
   "cell_type": "code",
   "execution_count": 112,
   "metadata": {},
   "outputs": [
    {
     "name": "stderr",
     "output_type": "stream",
     "text": [
      "find: missing argument to `-exec'\n"
     ]
    },
    {
     "ename": "CalledProcessError",
     "evalue": "Command 'b\"# man xargs\\n# man find\\nfind *.html -exec xargs -d ' ' tar\\n\"' returned non-zero exit status 1.",
     "output_type": "error",
     "traceback": [
      "\u001b[0;31m---------------------------------------------------------------------------\u001b[0m",
      "\u001b[0;31mCalledProcessError\u001b[0m                        Traceback (most recent call last)",
      "\u001b[0;32m<ipython-input-112-eb64adf90d66>\u001b[0m in \u001b[0;36m<module>\u001b[0;34m\u001b[0m\n\u001b[0;32m----> 1\u001b[0;31m \u001b[0mget_ipython\u001b[0m\u001b[0;34m(\u001b[0m\u001b[0;34m)\u001b[0m\u001b[0;34m.\u001b[0m\u001b[0mrun_cell_magic\u001b[0m\u001b[0;34m(\u001b[0m\u001b[0;34m'bash'\u001b[0m\u001b[0;34m,\u001b[0m \u001b[0;34m''\u001b[0m\u001b[0;34m,\u001b[0m \u001b[0;34m\"# man xargs\\n# man find\\nfind *.html -exec xargs -d ' ' tar\\n\"\u001b[0m\u001b[0;34m)\u001b[0m\u001b[0;34m\u001b[0m\u001b[0;34m\u001b[0m\u001b[0m\n\u001b[0m",
      "\u001b[0;32m~/anaconda3/lib/python3.7/site-packages/IPython/core/interactiveshell.py\u001b[0m in \u001b[0;36mrun_cell_magic\u001b[0;34m(self, magic_name, line, cell)\u001b[0m\n\u001b[1;32m   2360\u001b[0m             \u001b[0;32mwith\u001b[0m \u001b[0mself\u001b[0m\u001b[0;34m.\u001b[0m\u001b[0mbuiltin_trap\u001b[0m\u001b[0;34m:\u001b[0m\u001b[0;34m\u001b[0m\u001b[0;34m\u001b[0m\u001b[0m\n\u001b[1;32m   2361\u001b[0m                 \u001b[0margs\u001b[0m \u001b[0;34m=\u001b[0m \u001b[0;34m(\u001b[0m\u001b[0mmagic_arg_s\u001b[0m\u001b[0;34m,\u001b[0m \u001b[0mcell\u001b[0m\u001b[0;34m)\u001b[0m\u001b[0;34m\u001b[0m\u001b[0;34m\u001b[0m\u001b[0m\n\u001b[0;32m-> 2362\u001b[0;31m                 \u001b[0mresult\u001b[0m \u001b[0;34m=\u001b[0m \u001b[0mfn\u001b[0m\u001b[0;34m(\u001b[0m\u001b[0;34m*\u001b[0m\u001b[0margs\u001b[0m\u001b[0;34m,\u001b[0m \u001b[0;34m**\u001b[0m\u001b[0mkwargs\u001b[0m\u001b[0;34m)\u001b[0m\u001b[0;34m\u001b[0m\u001b[0;34m\u001b[0m\u001b[0m\n\u001b[0m\u001b[1;32m   2363\u001b[0m             \u001b[0;32mreturn\u001b[0m \u001b[0mresult\u001b[0m\u001b[0;34m\u001b[0m\u001b[0;34m\u001b[0m\u001b[0m\n\u001b[1;32m   2364\u001b[0m \u001b[0;34m\u001b[0m\u001b[0m\n",
      "\u001b[0;32m~/anaconda3/lib/python3.7/site-packages/IPython/core/magics/script.py\u001b[0m in \u001b[0;36mnamed_script_magic\u001b[0;34m(line, cell)\u001b[0m\n\u001b[1;32m    140\u001b[0m             \u001b[0;32melse\u001b[0m\u001b[0;34m:\u001b[0m\u001b[0;34m\u001b[0m\u001b[0;34m\u001b[0m\u001b[0m\n\u001b[1;32m    141\u001b[0m                 \u001b[0mline\u001b[0m \u001b[0;34m=\u001b[0m \u001b[0mscript\u001b[0m\u001b[0;34m\u001b[0m\u001b[0;34m\u001b[0m\u001b[0m\n\u001b[0;32m--> 142\u001b[0;31m             \u001b[0;32mreturn\u001b[0m \u001b[0mself\u001b[0m\u001b[0;34m.\u001b[0m\u001b[0mshebang\u001b[0m\u001b[0;34m(\u001b[0m\u001b[0mline\u001b[0m\u001b[0;34m,\u001b[0m \u001b[0mcell\u001b[0m\u001b[0;34m)\u001b[0m\u001b[0;34m\u001b[0m\u001b[0;34m\u001b[0m\u001b[0m\n\u001b[0m\u001b[1;32m    143\u001b[0m \u001b[0;34m\u001b[0m\u001b[0m\n\u001b[1;32m    144\u001b[0m         \u001b[0;31m# write a basic docstring:\u001b[0m\u001b[0;34m\u001b[0m\u001b[0;34m\u001b[0m\u001b[0;34m\u001b[0m\u001b[0m\n",
      "\u001b[0;32m</home/lukezhu/anaconda3/lib/python3.7/site-packages/decorator.py:decorator-gen-110>\u001b[0m in \u001b[0;36mshebang\u001b[0;34m(self, line, cell)\u001b[0m\n",
      "\u001b[0;32m~/anaconda3/lib/python3.7/site-packages/IPython/core/magic.py\u001b[0m in \u001b[0;36m<lambda>\u001b[0;34m(f, *a, **k)\u001b[0m\n\u001b[1;32m    185\u001b[0m     \u001b[0;31m# but it's overkill for just that one bit of state.\u001b[0m\u001b[0;34m\u001b[0m\u001b[0;34m\u001b[0m\u001b[0;34m\u001b[0m\u001b[0m\n\u001b[1;32m    186\u001b[0m     \u001b[0;32mdef\u001b[0m \u001b[0mmagic_deco\u001b[0m\u001b[0;34m(\u001b[0m\u001b[0marg\u001b[0m\u001b[0;34m)\u001b[0m\u001b[0;34m:\u001b[0m\u001b[0;34m\u001b[0m\u001b[0;34m\u001b[0m\u001b[0m\n\u001b[0;32m--> 187\u001b[0;31m         \u001b[0mcall\u001b[0m \u001b[0;34m=\u001b[0m \u001b[0;32mlambda\u001b[0m \u001b[0mf\u001b[0m\u001b[0;34m,\u001b[0m \u001b[0;34m*\u001b[0m\u001b[0ma\u001b[0m\u001b[0;34m,\u001b[0m \u001b[0;34m**\u001b[0m\u001b[0mk\u001b[0m\u001b[0;34m:\u001b[0m \u001b[0mf\u001b[0m\u001b[0;34m(\u001b[0m\u001b[0;34m*\u001b[0m\u001b[0ma\u001b[0m\u001b[0;34m,\u001b[0m \u001b[0;34m**\u001b[0m\u001b[0mk\u001b[0m\u001b[0;34m)\u001b[0m\u001b[0;34m\u001b[0m\u001b[0;34m\u001b[0m\u001b[0m\n\u001b[0m\u001b[1;32m    188\u001b[0m \u001b[0;34m\u001b[0m\u001b[0m\n\u001b[1;32m    189\u001b[0m         \u001b[0;32mif\u001b[0m \u001b[0mcallable\u001b[0m\u001b[0;34m(\u001b[0m\u001b[0marg\u001b[0m\u001b[0;34m)\u001b[0m\u001b[0;34m:\u001b[0m\u001b[0;34m\u001b[0m\u001b[0;34m\u001b[0m\u001b[0m\n",
      "\u001b[0;32m~/anaconda3/lib/python3.7/site-packages/IPython/core/magics/script.py\u001b[0m in \u001b[0;36mshebang\u001b[0;34m(self, line, cell)\u001b[0m\n\u001b[1;32m    243\u001b[0m             \u001b[0msys\u001b[0m\u001b[0;34m.\u001b[0m\u001b[0mstderr\u001b[0m\u001b[0;34m.\u001b[0m\u001b[0mflush\u001b[0m\u001b[0;34m(\u001b[0m\u001b[0;34m)\u001b[0m\u001b[0;34m\u001b[0m\u001b[0;34m\u001b[0m\u001b[0m\n\u001b[1;32m    244\u001b[0m         \u001b[0;32mif\u001b[0m \u001b[0margs\u001b[0m\u001b[0;34m.\u001b[0m\u001b[0mraise_error\u001b[0m \u001b[0;32mand\u001b[0m \u001b[0mp\u001b[0m\u001b[0;34m.\u001b[0m\u001b[0mreturncode\u001b[0m\u001b[0;34m!=\u001b[0m\u001b[0;36m0\u001b[0m\u001b[0;34m:\u001b[0m\u001b[0;34m\u001b[0m\u001b[0;34m\u001b[0m\u001b[0m\n\u001b[0;32m--> 245\u001b[0;31m             \u001b[0;32mraise\u001b[0m \u001b[0mCalledProcessError\u001b[0m\u001b[0;34m(\u001b[0m\u001b[0mp\u001b[0m\u001b[0;34m.\u001b[0m\u001b[0mreturncode\u001b[0m\u001b[0;34m,\u001b[0m \u001b[0mcell\u001b[0m\u001b[0;34m,\u001b[0m \u001b[0moutput\u001b[0m\u001b[0;34m=\u001b[0m\u001b[0mout\u001b[0m\u001b[0;34m,\u001b[0m \u001b[0mstderr\u001b[0m\u001b[0;34m=\u001b[0m\u001b[0merr\u001b[0m\u001b[0;34m)\u001b[0m\u001b[0;34m\u001b[0m\u001b[0;34m\u001b[0m\u001b[0m\n\u001b[0m\u001b[1;32m    246\u001b[0m \u001b[0;34m\u001b[0m\u001b[0m\n\u001b[1;32m    247\u001b[0m     \u001b[0;32mdef\u001b[0m \u001b[0m_run_script\u001b[0m\u001b[0;34m(\u001b[0m\u001b[0mself\u001b[0m\u001b[0;34m,\u001b[0m \u001b[0mp\u001b[0m\u001b[0;34m,\u001b[0m \u001b[0mcell\u001b[0m\u001b[0;34m,\u001b[0m \u001b[0mto_close\u001b[0m\u001b[0;34m)\u001b[0m\u001b[0;34m:\u001b[0m\u001b[0;34m\u001b[0m\u001b[0;34m\u001b[0m\u001b[0m\n",
      "\u001b[0;31mCalledProcessError\u001b[0m: Command 'b\"# man xargs\\n# man find\\nfind *.html -exec xargs -d ' ' tar\\n\"' returned non-zero exit status 1."
     ]
    }
   ],
   "source": [
    "%%bash\n",
    "# man xargs\n",
    "# man find\n",
    "find *.html -exec xargs -d ' ' tar"
   ]
  },
  {
   "cell_type": "markdown",
   "metadata": {},
   "source": [
    "### Exercise 5\n",
    "(Advanced) Write a command or script to recursively find the most recently modified file in a directory. More generally, can you list all files by recency?"
   ]
  },
  {
   "cell_type": "code",
   "execution_count": null,
   "metadata": {},
   "outputs": [],
   "source": []
  }
 ],
 "metadata": {
  "kernelspec": {
   "display_name": "Python 3",
   "language": "python",
   "name": "python3"
  },
  "language_info": {
   "codemirror_mode": {
    "name": "ipython",
    "version": 3
   },
   "file_extension": ".py",
   "mimetype": "text/x-python",
   "name": "python",
   "nbconvert_exporter": "python",
   "pygments_lexer": "ipython3",
   "version": "3.7.6"
  }
 },
 "nbformat": 4,
 "nbformat_minor": 2
}
