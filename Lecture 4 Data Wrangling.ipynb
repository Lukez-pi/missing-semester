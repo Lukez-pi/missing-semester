{
 "cells": [
  {
   "cell_type": "markdown",
   "metadata": {},
   "source": [
    "Most basic example of data wrangling: pipe operator\n",
    "\n",
    "`pager`: Takes a long piece of content and fits it into the window, and we can access the content by scrolling up and down, `man` is an example, `less` is also a `pager`"
   ]
  },
  {
   "cell_type": "markdown",
   "metadata": {},
   "source": [
    "## Sed command and regular expression\n",
    "In the video, the instructor did `cat ssh.log | sed 's/.*Disconnected from //' | less` and it removed everything that proceeded and including 'Disconnected from'. `s` stands for 'substitute', and it takes in two arguments, separated by '/', because it's empty between the last two '/', it is equivalent to deleting  the matching string. \n",
    "\n",
    "`.*` is a regular expression, `.` stands for any character, and `*` stands for 0 or more of that character, so `.*Disconnected from` can be interpreted as 0 or more characters followed by 'Disconnected from'.\n",
    "\n",
    "`+` in regular expression means 1 or more\n",
    "\n",
    "`?` 0 or 1\n",
    "\n",
    "`[]` in regular expression lets us match one of many different characters. In `sed s/...`, the default behavior is to match the pattern and replace the character once, we can provide the `g` modifier in the end: `sed s/matching_string/substitute_string/g` to match all\n",
    "\n",
    "`^`, `$`: anchor the regular expression, `^` stands for beginning of the line, and `$` stands for end of the line"
   ]
  }
 ],
 "metadata": {
  "kernelspec": {
   "display_name": "Python 3",
   "language": "python",
   "name": "python3"
  },
  "language_info": {
   "codemirror_mode": {
    "name": "ipython",
    "version": 3
   },
   "file_extension": ".py",
   "mimetype": "text/x-python",
   "name": "python",
   "nbconvert_exporter": "python",
   "pygments_lexer": "ipython3",
   "version": "3.7.3"
  }
 },
 "nbformat": 4,
 "nbformat_minor": 2
}
