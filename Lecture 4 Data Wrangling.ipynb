{
 "cells": [
  {
   "cell_type": "markdown",
   "metadata": {},
   "source": [
    "Most basic example of data wrangling: pipe operator\n",
    "\n",
    "`pager`: Takes a long piece of content and fits it into the window, and we can access the content by scrolling up and down, `man` is an example, `less` is also a `pager`"
   ]
  },
  {
   "cell_type": "markdown",
   "metadata": {},
   "source": [
    "## Sed command and regular expression\n",
    "In the video, the instructor did `cat ssh.log | sed 's/.*Disconnected from //' | less` and it removed everything that proceeded and including 'Disconnected from'. `s` stands for 'substitute', and it takes in two arguments, separated by '/', because it's empty between the last two '/', it is equivalent to deleting  the matching string. \n",
    "\n",
    "`.*` is a regular expression, `.` stands for any character, and `*` stands for 0 or more of that character, so `.*Disconnected from` can be interpreted as 0 or more characters followed by 'Disconnected from'.\n",
    "\n",
    "`+` in regular expression means 1 or more\n",
    "\n",
    "`?` 0 or 1\n",
    "\n",
    "`[]` in regular expression lets us match one of many different characters. In `sed s/...`, the default behavior is to match the pattern and replace the character once, we can provide the `g` modifier in the end: `sed s/matching_string/substitute_string/g` to match all\n",
    "\n",
    "`^`, `$`: anchor the regular expression, `^` stands for beginning of the line, and `$` stands for end of the line\n",
    "\n",
    "Regular expressions can get very messy, and we can use a regular expression debugger to help us with coming up with a correct regular expressions.\n",
    "\n",
    "Supplying `sed` with the `-E` flag will allow it to parse more recent versions of regular expressions\n",
    "\n",
    "See more in the actual lecture notes"
   ]
  },
  {
   "cell_type": "markdown",
   "metadata": {},
   "source": [
    "## Some other useful programs\n",
    "### wc\n",
    "`wc` is the word count program, and supplying it with the `-l` flag will calculate the number of lines instead\n",
    "### sort\n",
    "as the name suggests, it sorts the input\n",
    "`sort -nk1,1`, `-n` allows us to do a numeric sort, `-k` allows us to select a white space separated column, `1,1` means from the 1st column to the 1st column (equivalent to selecting the first column)\n",
    "### uniq\n",
    "`uniq -c` will also count the number of times an input is duplicated\n",
    "### awk\n",
    "`awk` is a column stream processor, it will parse the data into white-spaced separated columns and operate on each column separately, so we are stream in data with multiple columns, `awk '{print $2}'`will print the second column\n",
    "\n",
    "In the example in class, `awk '$1==1 && $2 ~ /^c.*e$/ {print $2}` will find all the user names that appeared once (through `$1==1` and find all the username that starts with a c and ends with a e by matching it to the regular expression pattern, then finally printing out the user names.\n",
    "\n",
    "`awk` is essentially a programming language, so we can also set variables, perform operations on it, see the notes for more details\n",
    "### paste\n",
    "`paste -sd,` will paste together the input stream into a single line (`-s`) with a delimiter comma (`-d,`)\n",
    "### bc \n",
    "`bc` stands for Berkeley calculator, and takes input from `stdin`, so `echo \"1+2\" | bc -l` will return 3\n",
    "\n",
    "In the example in class, after getting the counts of the unique usernames, we did `awk '$1 != 1 {print $1}' | paste -sd+ | bc -l` will find all usernames that logged in more than once, concatenate them onto one single line separated by the delimiter `+`, and pipe this into `bc` to return the total count of login attempts\n",
    "### R\n",
    "We can also pipe the login information into `R`, for example `R --slave -e 'x <- scan(file=\"stdin\", quiet=TRUE); summary(x)'` will return the statistics regarding the login information"
   ]
  }
 ],
 "metadata": {
  "kernelspec": {
   "display_name": "Python 3",
   "language": "python",
   "name": "python3"
  },
  "language_info": {
   "codemirror_mode": {
    "name": "ipython",
    "version": 3
   },
   "file_extension": ".py",
   "mimetype": "text/x-python",
   "name": "python",
   "nbconvert_exporter": "python",
   "pygments_lexer": "ipython3",
   "version": "3.7.3"
  }
 },
 "nbformat": 4,
 "nbformat_minor": 2
}
