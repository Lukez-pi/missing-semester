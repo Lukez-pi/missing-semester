{
 "cells": [
  {
   "cell_type": "markdown",
   "metadata": {},
   "source": [
    "Need to be aware of spaces when defining variables, recall spaces are used to separate options/flags, so doing `foo=bar` will work, whereas `foo = bar` will return an error (it is interpreted as calling the `foo` program, with `=` as the first argument and `bar` as the second argument)"
   ]
  },
  {
   "cell_type": "markdown",
   "metadata": {},
   "source": [
    "We can put functions into files, execute and load it into the shell by `source`\n",
    "\n",
    "file `mcd.sh`:\n",
    "```\n",
    "mcd() {\n",
    "    mkdir \"$1\"\n",
    "    cd \"$1\"\n",
    "   }\n",
    "```\n",
    "sourcing it in shell:\n",
    "`source mcd.sh`"
   ]
  },
  {
   "cell_type": "markdown",
   "metadata": {},
   "source": [
    "`$_`: last argument of the previous command, this can be handy at times, for example creating a directory and changing directory to it:\n",
    "```\n",
    "mkdir test\n",
    "cd $_\n",
    "```\n",
    "\n",
    "`$@`: expands to all arguments, handy when we don't know how many arguments there will be beforehand, example: `for file in \"$@\"; do`\n",
    "\n",
    "`$#`: number of arguments\n",
    "\n",
    "`$$`: process id\n",
    "\n",
    "`$?`: error message of the previous command, if `echo $?` returned 0, it meant the previous command executed successfully\n",
    "\n",
    "`$0`: name of the script\n",
    "\n",
    "`$1`~`$9`: first to the 9th command\n",
    "\n",
    "Another command that might come in handy is `!!`, for example, if we were to do something but was denied permission, then we can do:\n",
    "\n",
    "```mkdir /directory/with/no/permission\n",
    "sudo !!```\n",
    "\n",
    "The `!!` will be replaced with the previous command"
   ]
  },
  {
   "cell_type": "markdown",
   "metadata": {},
   "source": [
    "Getting the output of a command into a variable:"
   ]
  },
  {
   "cell_type": "code",
   "execution_count": 2,
   "metadata": {},
   "outputs": [
    {
     "name": "stderr",
     "output_type": "stream",
     "text": [
      "'foo' is not recognized as an internal or external command,\n",
      "operable program or batch file.\n"
     ]
    },
    {
     "name": "stdout",
     "output_type": "stream",
     "text": [
      "\"we are in $(pwd)\"\n"
     ]
    }
   ],
   "source": [
    "!foo=$(pwd)\n",
    "!echo \"we are in $(pwd)\""
   ]
  },
  {
   "cell_type": "markdown",
   "metadata": {},
   "source": [
    "### Process substitution:\n",
    "`<(some_command)` makes the input or output of a command to appear as a file, this can come in handy for commands that doesn't take input from stdin but from files, for example, the following command concatenates the file names in the current and parent directory and prints it out on the terminal:"
   ]
  },
  {
   "cell_type": "code",
   "execution_count": 3,
   "metadata": {},
   "outputs": [
    {
     "name": "stderr",
     "output_type": "stream",
     "text": [
      "The system cannot find the file specified.\n"
     ]
    }
   ],
   "source": [
    "!cat <(ls) <(ls ..)"
   ]
  },
  {
   "cell_type": "markdown",
   "metadata": {},
   "source": [
    "Example used in class:\n",
    "```\n",
    "for file in \"$@\"; do\n",
    "    grep foobar \"$file\" > dev/null 2> /dev/null \n",
    "    if [[ \"$?\" -ne 0 ]]; then \n",
    "        echo \"File $file does not have any foobar\n",
    "    fi\n",
    "done\n",
    "```\n",
    "Note: the line `grep foobar \"$file\" > dev/null 2> /dev/null` meant we are not interested in the result from stdout and stderr, so we dump it to /dev/null, 2> is for stderr"
   ]
  },
  {
   "cell_type": "markdown",
   "metadata": {},
   "source": [
    "### Globbing:\n",
    "wildcard matching with `*`, we can also use `$` for a one character wildcard matching, for example, if we have directories called `project1`, `project2` and `project42`, and we only want the projects with single digits, then we do `project$`\n",
    "\n",
    "We can also use `{}`, for example, if we want to create files `foo1, foo2, foo10`, instead of typing all file names 1 by 1, we can just do `touch foo{1,2,10}`. If we do something like `touch project{1,2}/testP{1,2,3}.py`, then the shell will expand everything inside the curly braces into its cartesian product. We can also do things like `touch {foo, bar}/{a...j}`, in which case, the shell will create files `a` to `j` under the directory `foo` and `bar`"
   ]
  },
  {
   "cell_type": "markdown",
   "metadata": {},
   "source": [
    "### Shebang\n",
    "In the exercise from lecture 1, we already knew that #! will specify the interpreter directory, so that's why in Python scripts, we commonly see the first line as something similar to `#!usr/local/bin/python`, but what if we don't know where the `python` interpreter is, then we can try \n",
    "\n",
    "`#!usr/bin/env python`\n",
    "\n",
    "instead, in this case, we make use of the `env` variable, and attempt to search for `python` in the `env`"
   ]
  },
  {
   "cell_type": "markdown",
   "metadata": {},
   "source": [
    "### Shellcheck\n",
    "Shellcheck helps check your file, finds if there are any errors and gives warning, usage:\n",
    "\n",
    "`shellcheck some_file`"
   ]
  },
  {
   "cell_type": "markdown",
   "metadata": {},
   "source": [
    "### tldr\n",
    "Last lecture, we learned about using `man` to access the manual, but sometimes the manual is very long, and instead there is this other program called `tldr` that we can download, and it gives more succint instructions on how to run a program, usage:\n",
    "\n",
    "`tldr some_command`"
   ]
  },
  {
   "cell_type": "markdown",
   "metadata": {},
   "source": [
    "### How to find files\n",
    "`find`, example: \n",
    "\n",
    "`find . -name src -type d`, `.` means the current directory, `d` means we want to find directories\n",
    "\n",
    "`find . -path **/yest/*.py`, `**` means some number of folders\n",
    "\n",
    "`find . -mtime -1`, `-mtime` stands for the the time the file was modified (in the unit of days)\n",
    "\n",
    "We can also execute commands after we find the files:\n",
    "\n",
    "`find . -name *.tmp -exec rm {} \\;`"
   ]
  },
  {
   "cell_type": "markdown",
   "metadata": {},
   "source": [
    "### More on grep\n",
    "We can search recursively through a directory with `grep` using the `-R` flag, a potential use case for this is when we have multiple code files under a directory, and we want to find which file contained the function that we wrote 2 months ago, then running the `grep -R function_name .` command can help us with it.\n",
    "\n",
    "There is also another similar library called `ripgrep` that has better syntax highlighting, more flags...., for example:\n",
    "\n",
    "`rg -u --files-without-match \"^#/!\" -t sh`, `-u` means don't ignore hidden files, and the command finds all the `sh` files that doesn't have a shebang."
   ]
  },
  {
   "cell_type": "markdown",
   "metadata": {},
   "source": [
    "### Finding commands\n",
    "Ctrl+R: enters recall mode to search for commands that we have previous used, for example, if we want to find all the `grep` commands that we have used befor, then Ctrl+R, `grep` and keeping hitting the uparrow key until we find what we want. \n",
    "\n",
    "We can also use the `history` command, to start from the history of the first command, do `history 1`, and then we can further pipe this to perhaps `grep` to refine our search, such as `history 1 | grep grep`"
   ]
  }
 ],
 "metadata": {
  "kernelspec": {
   "display_name": "Python 3",
   "language": "python",
   "name": "python3"
  },
  "language_info": {
   "codemirror_mode": {
    "name": "ipython",
    "version": 3
   },
   "file_extension": ".py",
   "mimetype": "text/x-python",
   "name": "python",
   "nbconvert_exporter": "python",
   "pygments_lexer": "ipython3",
   "version": "3.7.3"
  }
 },
 "nbformat": 4,
 "nbformat_minor": 2
}
