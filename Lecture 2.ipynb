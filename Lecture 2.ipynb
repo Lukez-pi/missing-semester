{
 "cells": [
  {
   "cell_type": "markdown",
   "metadata": {},
   "source": [
    "Need to be aware of spaces when defining variables, recall spaces are used to separate options/flags, so doing `foo=bar` will work, whereas `foo = bar` will return an error (it is interpreted as calling the `foo` program, with `=` as the first argument and `bar` as the second argument)"
   ]
  },
  {
   "cell_type": "markdown",
   "metadata": {},
   "source": [
    "We can put functions into files, execute and load it into the shell by `source`\n",
    "\n",
    "file `mcd.sh`:\n",
    "```\n",
    "mcd() {\n",
    "    mkdir \"$1\"\n",
    "    cd \"$1\"\n",
    "   }\n",
    "```\n",
    "sourcing it in shell:\n",
    "`source mcd.sh`"
   ]
  },
  {
   "cell_type": "markdown",
   "metadata": {},
   "source": [
    "`$_`: last argument of the previous command, this can be handy at times, for example creating a directory and changing directory to it:\n",
    "```\n",
    "mkdir test\n",
    "cd $_\n",
    "```\n",
    "\n",
    "`$@`: expands to all arguments, handy when we don't know how many arguments there will be beforehand, example: `for file in \"$@\"; do`\n",
    "\n",
    "`$#`: number of arguments\n",
    "\n",
    "`$$`: process id\n",
    "\n",
    "`$?`: error message of the previous command, if `echo $?` returned 0, it meant the previous command executed successfully\n",
    "\n",
    "`$0`: name of the script\n",
    "\n",
    "`$1`~`$9`: first to the 9th command\n",
    "\n",
    "Another command that might come in handy is `!!`, for example, if we were to do something but was denied permission, then we can do:\n",
    "\n",
    "```mkdir /directory/with/no/permission\n",
    "sudo !!```\n",
    "\n",
    "The `!!` will be replaced with the previous command"
   ]
  },
  {
   "cell_type": "markdown",
   "metadata": {},
   "source": [
    "Getting the output of a command into a variable:"
   ]
  },
  {
   "cell_type": "code",
   "execution_count": 1,
   "metadata": {},
   "outputs": [
    {
     "name": "stdout",
     "output_type": "stream",
     "text": [
      "we are in /home/lukezhu/Code/missing-semester\r\n"
     ]
    }
   ],
   "source": [
    "!foo=$(pwd)\n",
    "!echo \"we are in $(pwd)\""
   ]
  },
  {
   "cell_type": "markdown",
   "metadata": {},
   "source": [
    "### Process substitution:\n",
    "`<(some_command)` makes the input or output of a command to appear as a file, this can come in handy for commands that doesn't take input from stdin but from files, for example, the following command concatenates the file names in the current and parent directory and prints it out on the terminal:"
   ]
  },
  {
   "cell_type": "code",
   "execution_count": 10,
   "metadata": {},
   "outputs": [
    {
     "name": "stdout",
     "output_type": "stream",
     "text": [
      "fine-scale-mutation-spectrum\n",
      "missing-semester\n",
      "mushi\n",
      "mushi_lz\n",
      "mut_R\n",
      "mutyper\n",
      "Lecture 1.ipynb\n",
      "Lecture 2.ipynb\n",
      "missing\n"
     ]
    }
   ],
   "source": [
    "%%bash\n",
    "cat <(ls ..) <(ls)"
   ]
  },
  {
   "cell_type": "markdown",
   "metadata": {},
   "source": [
    "Example used in class:\n",
    "```\n",
    "for file in \"$@\"; do\n",
    "    grep foobar \"$file\" > dev/null 2> /dev/null \n",
    "    if [[ \"$?\" -ne 0 ]]; then \n",
    "        echo \"File $file does not have any foobar\n",
    "    fi\n",
    "done\n",
    "```\n",
    "Note: the line `grep foobar \"$file\" > dev/null 2> /dev/null` meant we are not interested in the result from stdout and stderr, so we dump it to /dev/null, 2> is for stderr"
   ]
  },
  {
   "cell_type": "markdown",
   "metadata": {},
   "source": [
    "### Globbing:\n",
    "wildcard matching with `*`, we can also use `$` for a one character wildcard matching, for example, if we have directories called `project1`, `project2` and `project42`, and we only want the projects with single digits, then we do `project$`\n",
    "\n",
    "We can also use `{}`, for example, if we want to create files `foo1, foo2, foo10`, instead of typing all file names 1 by 1, we can just do `touch foo{1,2,10}`. If we do something like `touch project{1,2}/testP{1,2,3}.py`, then the shell will expand everything inside the curly braces into its cartesian product. We can also do things like `touch {foo, bar}/{a...j}`, in which case, the shell will create files `a` to `j` under the directory `foo` and `bar`"
   ]
  },
  {
   "cell_type": "markdown",
   "metadata": {},
   "source": [
    "### Shebang\n",
    "In the exercise from lecture 1, we already knew that #! will specify the interpreter directory, so that's why in Python scripts, we commonly see the first line as something similar to `#!usr/local/bin/python`, but what if we don't know where the `python` interpreter is, then we can try \n",
    "\n",
    "`#!usr/bin/env python`\n",
    "\n",
    "instead, in this case, we make use of the `env` variable, and attempt to search for `python` in the `env`"
   ]
  },
  {
   "cell_type": "markdown",
   "metadata": {},
   "source": [
    "### Shellcheck\n",
    "Shellcheck helps check your file, finds if there are any errors and gives warning, usage:\n",
    "\n",
    "`shellcheck some_file`"
   ]
  },
  {
   "cell_type": "markdown",
   "metadata": {},
   "source": [
    "### tldr\n",
    "Last lecture, we learned about using `man` to access the manual, but sometimes the manual is very long, and instead there is this other program called `tldr` that we can download, and it gives more succint instructions on how to run a program, usage:\n",
    "\n",
    "`tldr some_command`"
   ]
  },
  {
   "cell_type": "markdown",
   "metadata": {},
   "source": [
    "### How to find files\n",
    "`find`, example: \n",
    "\n",
    "`find . -name src -type d`, `.` means the current directory, `d` means we want to find directories\n",
    "\n",
    "`find . -path **/yest/*.py`, `**` means some number of folders\n",
    "\n",
    "`find . -mtime -1`, `-mtime` stands for the the time the file was modified (in the unit of days)\n",
    "\n",
    "We can also execute commands after we find the files:\n",
    "\n",
    "`find . -name *.tmp -exec rm {} \\;`"
   ]
  },
  {
   "cell_type": "markdown",
   "metadata": {},
   "source": [
    "### More on grep\n",
    "We can search recursively through a directory with `grep` using the `-R` flag, a potential use case for this is when we have multiple code files under a directory, and we want to find which file contained the function that we wrote 2 months ago, then running the `grep -R function_name .` command can help us with it.\n",
    "\n",
    "There is also another similar library called `ripgrep` that has better syntax highlighting, more flags...., for example:\n",
    "\n",
    "`rg -u --files-without-match \"^#/!\" -t sh`, `-u` means don't ignore hidden files, and the command finds all the `sh` files that doesn't have a shebang."
   ]
  },
  {
   "cell_type": "markdown",
   "metadata": {},
   "source": [
    "### Finding commands\n",
    "Ctrl+R: enters recall mode to search for commands that we have previous used, for example, if we want to find all the `grep` commands that we have used befor, then Ctrl+R, `grep` and keeping hitting the uparrow key until we find what we want. \n",
    "\n",
    "We can also use the `history` command, to start from the history of the first command, do `history 1`, and then we can further pipe this to perhaps `grep` to refine our search, such as `history 1 | grep grep`"
   ]
  },
  {
   "cell_type": "markdown",
   "metadata": {},
   "source": [
    "### Exercise 1:\n",
    "Read `man ls` and write an `ls` command that lists files in the following manner\n",
    "- Includes all files, including hidden files\n",
    "- Sizes are listed in human readable format (e.g. 454M instead of 454279954)\n",
    "- Files are ordered by recency\n",
    "- Output is colorized"
   ]
  },
  {
   "cell_type": "code",
   "execution_count": 48,
   "metadata": {
    "scrolled": true
   },
   "outputs": [
    {
     "name": "stdout",
     "output_type": "stream",
     "text": [
      "       -h, --human-readable\n",
      "              with -l and/or -s, print human readable sizes (e.g., 1K 234M 2G)\n",
      "       --color[=WHEN]\n",
      "              colorize  the output; WHEN can be 'always' (default if omitted),\n",
      "       -f     do not sort, enable -aU, disable -ls --color\n",
      "       Using  color  to distinguish file types is disabled both by default and\n",
      "       with --color=never.  With --color=auto, ls emits color codes only  when\n",
      "       variable can change the settings.  Use the dircolors command to set it.\n",
      "       --file-type\n",
      "       --full-time\n",
      "              like -l --time-style=full-iso\n",
      "       --dereference-command-line-symlink-to-dir\n",
      "              slash (-p), file-type (--file-type), classify (-F)\n",
      "              sort  by  WORD instead of name: none (-U), size (-S), time (-t),\n",
      "       --time=WORD\n",
      "       --time-style=STYLE\n",
      "       -t     sort by modification time, newest first\n",
      "       -T, --tabsize=COLS\n",
      "total 64K\n",
      "drwxr-xr-x 5 lukezhu lukezhu 4.0K Aug 27 11:21 \u001b[0m\u001b[01;34m.\u001b[0m\n",
      "-rw-r--r-- 1 lukezhu lukezhu  11K Aug 27 11:21 Lecture 2.ipynb\n",
      "drwxr-xr-x 8 lukezhu lukezhu 4.0K Aug 27 11:05 \u001b[01;34m.git\u001b[0m\n",
      "drwxr-xr-x 2 lukezhu lukezhu 4.0K Aug 27 11:05 \u001b[01;34m.ipynb_checkpoints\u001b[0m\n",
      "-rw-r--r-- 1 lukezhu lukezhu  30K Aug 27 08:33 Lecture 1.ipynb\n",
      "drwxr-xr-x 2 lukezhu lukezhu 4.0K Aug 26 22:19 \u001b[01;34mmissing\u001b[0m\n",
      "drwxr-xr-x 8 lukezhu lukezhu 4.0K Aug 26 22:11 \u001b[01;34m..\u001b[0m\n",
      "\n",
      "for a shorter command \n",
      "total 64K\n",
      "drwxr-xr-x 5 lukezhu lukezhu 4.0K Aug 27 11:21 \u001b[0m\u001b[01;34m.\u001b[0m\n",
      "-rw-r--r-- 1 lukezhu lukezhu  11K Aug 27 11:21 Lecture 2.ipynb\n",
      "drwxr-xr-x 8 lukezhu lukezhu 4.0K Aug 27 11:05 \u001b[01;34m.git\u001b[0m\n",
      "drwxr-xr-x 2 lukezhu lukezhu 4.0K Aug 27 11:05 \u001b[01;34m.ipynb_checkpoints\u001b[0m\n",
      "-rw-r--r-- 1 lukezhu lukezhu  30K Aug 27 08:33 Lecture 1.ipynb\n",
      "drwxr-xr-x 2 lukezhu lukezhu 4.0K Aug 26 22:19 \u001b[01;34mmissing\u001b[0m\n",
      "drwxr-xr-x 8 lukezhu lukezhu 4.0K Aug 26 22:11 \u001b[01;34m..\u001b[0m\n"
     ]
    }
   ],
   "source": [
    "%%bash\n",
    "man ls | grep human -\n",
    "man ls | grep color -\n",
    "man ls | grep \\\\-t -\n",
    "ls --color=always -a -c -l -t -h \n",
    "# to reverse sort, use -r\n",
    "printf \"\\nfor a shorter command \\n\"\n",
    "ls --color=always -alth"
   ]
  },
  {
   "cell_type": "markdown",
   "metadata": {},
   "source": [
    "### Exercise 2\n",
    "Write bash functions `marco` and `polo` that do the following. Whenever you execute `marco` the current working directory should be saved in some manner, then when you execute `polo`, no matter what directory you are in, `polo` should `cd` you back to the directory where you executed `marco`. For ease of debugging you can write the code in a file `marco.sh` and (re)load the definitions to your shell by executing source `marco.sh`."
   ]
  },
  {
   "cell_type": "code",
   "execution_count": 103,
   "metadata": {},
   "outputs": [
    {
     "name": "stdout",
     "output_type": "stream",
     "text": [
      "/home/lukezhu/Code/missing-semester\n",
      "/home/lukezhu/Code/missing-semester/lecture2_exercises\n"
     ]
    }
   ],
   "source": [
    "%%bash\n",
    "# mkdir ./lecture2_exercises\n",
    "cd lecture2_exercises\n",
    "# << is known as here-document, the word following '<<' acts as the delimiter, and if there are quotes around the \n",
    "# word, then it prevents variables being evaluated before writing to file\n",
    "cat > marco.sh << 'EOF' # make sure to add single quotes around EOF to prevent variable ($pwd) from evaluating\n",
    "#!bin/bash\n",
    "marco() {\n",
    "    prev_dir=$(pwd)\n",
    "}\n",
    "\n",
    "# comparing \n",
    "\n",
    "polo() {\n",
    "    cd $prev_dir\n",
    "}\n",
    "EOF\n",
    "\n",
    "source ./marco.sh\n",
    "\n",
    "marco\n",
    "cd ..\n",
    "echo $(pwd)\n",
    "polo\n",
    "echo $(pwd)"
   ]
  },
  {
   "cell_type": "markdown",
   "metadata": {},
   "source": [
    "## Exercise 3\n",
    "Say you have a command that fails rarely. In order to debug it you need to capture its output but it can be time consuming to get a failure run. Write a bash script that runs the following script until it fails and captures its standard output and error streams to files and prints everything at the end. Bonus points if you can also report how many runs it took for the script to fail.\n",
    "```\n",
    "#!/usr/bin/env bash\n",
    "\n",
    " n=$(( RANDOM % 100 ))\n",
    "\n",
    " if [[ n -eq 42 ]]; then\n",
    "    echo \"Something went wrong\"\n",
    "    >&2 echo \"The error was using magic numbers\"\n",
    "    exit 1\n",
    " fi\n",
    "\n",
    " echo \"Everything went according to plan\"\n",
    "```"
   ]
  },
  {
   "cell_type": "code",
   "execution_count": 185,
   "metadata": {},
   "outputs": [
    {
     "name": "stdout",
     "output_type": "stream",
     "text": [
      "/home/lukezhu/Code/missing-semester\n"
     ]
    }
   ],
   "source": [
    "%%bash\n",
    "pwd\n",
    "cd lecture2_exercises\n",
    "cat >exercise3 <<'EOF'\n",
    "#!/usr/bin/env bash\n",
    "\n",
    "n=$(( RANDOM % 100 ))\n",
    "\n",
    "if [ $n -eq 42 ]; then\n",
    "echo \"Something went wrong\"\n",
    ">&2 echo \"The error was using magic numbers\"\n",
    "exit 1\n",
    "fi\n",
    "\n",
    "echo \"Everything went according to plan\"\n",
    "EOF\n",
    "\n",
    "\n",
    "cat >run_exercise3 <<'EOF'\n",
    "#!/usr/bin/env bash\n",
    "i=0\n",
    "execution_status=0\n",
    "while [ $execution_status -eq 0 ]; do\n",
    "    ./exercise3 >/dev/null\n",
    "    execution_status=$?\n",
    "    i=$((i+1))\n",
    "done\n",
    "echo \"the total number of iterations were $i\"\n",
    "EOF"
   ]
  },
  {
   "cell_type": "code",
   "execution_count": 186,
   "metadata": {},
   "outputs": [
    {
     "name": "stdout",
     "output_type": "stream",
     "text": [
      "the total number of iterations were 40\n"
     ]
    },
    {
     "name": "stderr",
     "output_type": "stream",
     "text": [
      "The error was using magic numbers\n"
     ]
    }
   ],
   "source": [
    "%%bash\n",
    "cd lecture2_exercises\n",
    "chmod +x exercise3 run_exercise3\n",
    "./run_exercise3"
   ]
  },
  {
   "cell_type": "markdown",
   "metadata": {},
   "source": [
    "## Exercise 4\n",
    "As we covered in the lecture `find`’s `-exec` can be very powerful for performing operations over the files we are searching for. However, what if we want to do something with all the files, like creating a zip file? As you have seen so far commands will take input from both arguments and `STDIN`. When piping commands, we are connecting `STDOUT` to `STDIN`, but some commands like `tar` take inputs from arguments. To bridge this disconnect there’s the xargs command which will execute a command using `STDIN` as arguments. For example `ls | xargs rm` will delete the files in the current directory.\n",
    "\n",
    "Your task is to write a command that recursively finds all HTML files in the folder and makes a zip with them. Note that your command should work even if the files have spaces (hint: check -d flag for xargs)"
   ]
  },
  {
   "cell_type": "code",
   "execution_count": 191,
   "metadata": {},
   "outputs": [],
   "source": [
    "%%bash\n",
    "cd lecture2_exercises\n",
    "for i in {1..3}\n",
    "do\n",
    "    touch \"random$i.html\"\n",
    "    touch \"random $i.html\"\n",
    "done"
   ]
  },
  {
   "cell_type": "code",
   "execution_count": 12,
   "metadata": {},
   "outputs": [
    {
     "name": "stdout",
     "output_type": "stream",
     "text": [
      "./random 1.html\n",
      "./random1.html\n",
      "./random2.html\n",
      "./random 2.html\n",
      "./random3.html\n",
      "./random 3.html\n"
     ]
    }
   ],
   "source": [
    "%%bash\n",
    "cd lecture2_exercises\n",
    "# need to pass in *.html inside '' to avoid shell expansion prior to executing find\n",
    "# man xargs\n",
    "find . -name '*.html' | xargs -0 -d '\\n' tar -cvf file.tar.gz\n",
    "# -d ' ' tar -cvf file.tar.gz \\;"
   ]
  },
  {
   "cell_type": "markdown",
   "metadata": {},
   "source": [
    "### Exercise 5\n",
    "(Advanced) Write a command or script to recursively find the most recently modified file in a directory. More generally, can you list all files by recency?"
   ]
  },
  {
   "cell_type": "code",
   "execution_count": 18,
   "metadata": {
    "scrolled": true
   },
   "outputs": [
    {
     "name": "stdout",
     "output_type": "stream",
     "text": [
      "TAIL(1)                          User Commands                         TAIL(1)\n",
      "\n",
      "NAME\n",
      "       tail - output the last part of files\n",
      "\n",
      "SYNOPSIS\n",
      "       tail [OPTION]... [FILE]...\n",
      "\n",
      "DESCRIPTION\n",
      "       Print  the  last  10  lines of each FILE to standard output.  With more\n",
      "       than one FILE, precede each with a header giving the file name.\n",
      "\n",
      "       With no FILE, or when FILE is -, read standard input.\n",
      "\n",
      "       Mandatory arguments to long options are  mandatory  for  short  options\n",
      "       too.\n",
      "\n",
      "       -c, --bytes=[+]NUM\n",
      "              output  the  last  NUM  bytes; or use -c +NUM to output starting\n",
      "              with byte NUM of each file\n",
      "\n",
      "       -f, --follow[={name|descriptor}]\n",
      "              output appended data as the file grows;\n",
      "\n",
      "              an absent option argument means 'descriptor'\n",
      "\n",
      "       -F     same as --follow=name --retry\n",
      "\n",
      "       -n, --lines=[+]NUM\n",
      "              output the last NUM lines, instead of the last  10;  or  use  -n\n",
      "              +NUM to output starting with line NUM\n",
      "\n",
      "       --max-unchanged-stats=N\n",
      "              with --follow=name, reopen a FILE which has not\n",
      "\n",
      "              changed  size  after  N  (default 5) iterations to see if it has\n",
      "              been unlinked or renamed (this is the usual case of rotated  log\n",
      "              files); with inotify, this option is rarely useful\n",
      "\n",
      "       --pid=PID\n",
      "              with -f, terminate after process ID, PID dies\n",
      "\n",
      "       -q, --quiet, --silent\n",
      "              never output headers giving file names\n",
      "\n",
      "       --retry\n",
      "              keep trying to open a file if it is inaccessible\n",
      "\n",
      "       -s, --sleep-interval=N\n",
      "              with -f, sleep for approximately N seconds (default 1.0) between\n",
      "              iterations; with inotify and --pid=P, check process P  at  least\n",
      "              once every N seconds\n",
      "\n",
      "       -v, --verbose\n",
      "              always output headers giving file names\n",
      "\n",
      "       -z, --zero-terminated\n",
      "              line delimiter is NUL, not newline\n",
      "\n",
      "       --help display this help and exit\n",
      "\n",
      "       --version\n",
      "              output version information and exit\n",
      "\n",
      "       NUM may have a multiplier suffix: b 512, kB 1000, K 1024, MB 1000*1000,\n",
      "       M 1024*1024, GB 1000*1000*1000, G 1024*1024*1024, and so on for  T,  P,\n",
      "       E, Z, Y.\n",
      "\n",
      "       With  --follow  (-f),  tail  defaults to following the file descriptor,\n",
      "       which means that even if a tail'ed file is renamed, tail will  continue\n",
      "       to  track  its  end.   This  default behavior is not desirable when you\n",
      "       really want to track the actual name of the file, not the file descrip‐\n",
      "       tor (e.g., log rotation).  Use --follow=name in that case.  That causes\n",
      "       tail to track the named file  in  a  way  that  accommodates  renaming,\n",
      "       removal and creation.\n",
      "\n",
      "AUTHOR\n",
      "       Written  by Paul Rubin, David MacKenzie, Ian Lance Taylor, and Jim Mey‐\n",
      "       ering.\n",
      "\n",
      "REPORTING BUGS\n",
      "       GNU coreutils online help: <http://www.gnu.org/software/coreutils/>\n",
      "       Report tail translation bugs to <http://translationproject.org/team/>\n",
      "\n",
      "COPYRIGHT\n",
      "       Copyright © 2017 Free Software Foundation, Inc.   License  GPLv3+:  GNU\n",
      "       GPL version 3 or later <http://gnu.org/licenses/gpl.html>.\n",
      "       This  is  free  software:  you  are free to change and redistribute it.\n",
      "       There is NO WARRANTY, to the extent permitted by law.\n",
      "\n",
      "SEE ALSO\n",
      "       head(1)\n",
      "\n",
      "       Full documentation at: <http://www.gnu.org/software/coreutils/tail>\n",
      "       or available locally via: info '(coreutils) tail invocation'\n",
      "\n",
      "GNU coreutils 8.28               January 2018                          TAIL(1)\n"
     ]
    }
   ],
   "source": [
    "%%bash\n",
    "man tail"
   ]
  },
  {
   "cell_type": "code",
   "execution_count": 20,
   "metadata": {},
   "outputs": [
    {
     "name": "stdout",
     "output_type": "stream",
     "text": [
      "-rw-r--r-- 1 lukezhu lukezhu 22537 Sep  3 19:40 Lecture 2.ipynb\n",
      "-rw-r--r-- 1 lukezhu lukezhu 22537 Sep 3 19:40 Lecture 2.ipynb\n"
     ]
    }
   ],
   "source": [
    "%%bash\n",
    "ls -l -t | tail -n +2 | head -1\n",
    "# or, reverse sort and output the last line\n",
    "ls -ltr | tail -n 1 | xargs echo"
   ]
  },
  {
   "cell_type": "code",
   "execution_count": 71,
   "metadata": {},
   "outputs": [],
   "source": [
    "%%bash\n",
    "cd lecture2_exercises\n",
    "cat >'exercise5' <<'EOF'\n",
    "#!bin/bash\n",
    "list_most_recent_file() {\n",
    "    dir_name=$1\n",
    "    ls $dir_name -lt | tail -n +2 | head -1\n",
    "}\n",
    "# list_most_recent_file()\n",
    "#\n",
    "EOF"
   ]
  },
  {
   "cell_type": "code",
   "execution_count": 72,
   "metadata": {},
   "outputs": [
    {
     "name": "stdout",
     "output_type": "stream",
     "text": [
      "-rw-r--r-- 1 lukezhu lukezhu   127 Sep  3 20:11 exercise5\n"
     ]
    }
   ],
   "source": [
    "%%bash\n",
    "cd lecture2_exercises\n",
    "source exercise5\n",
    "\n",
    "list_most_recent_file $(pwd)"
   ]
  }
 ],
 "metadata": {
  "kernelspec": {
   "display_name": "Python 3",
   "language": "python",
   "name": "python3"
  },
  "language_info": {
   "codemirror_mode": {
    "name": "ipython",
    "version": 3
   },
   "file_extension": ".py",
   "mimetype": "text/x-python",
   "name": "python",
   "nbconvert_exporter": "python",
   "pygments_lexer": "ipython3",
   "version": "3.7.6"
  }
 },
 "nbformat": 4,
 "nbformat_minor": 2
}
