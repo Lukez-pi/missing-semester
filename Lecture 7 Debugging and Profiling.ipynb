{
 "cells": [
  {
   "cell_type": "markdown",
   "metadata": {},
   "source": [
    "## Debugging\n",
    "We can use the good old `printf` debugging or logging (we often find logs under the `var/log` directory, when that is not enough, we can use a debugger.\n",
    "\n",
    "The IDE debuggers are just using the command line debugging tools but presenting them in a fancier format. To run Python with the iPython debugger, we can execute the command `python -m ipdb program.py`. It seems like `pudb` is more popular than `ipdb`. Some commands in `ipdb`:\n",
    "\n",
    "`l`: list the code\n",
    "\n",
    "`s`: step through one line at a time\n",
    "\n",
    "`restart`: self-explanatory \n",
    "\n",
    "`c`: continue until we encounter a bug\n",
    "\n",
    "`p <var_name>`: get the value of the variable name, `p locals()` returns a dictionary of all the local variables and their values \n",
    "\n",
    "`q`: quit\n",
    "\n",
    "`b <line_number>`: set a break point at a certain line, can figure out the line number using the `l` command \n",
    "\n",
    "There are also static analysis tools in Python, for example `pyflakes`, `mypy` and can help identify potential issues with our code (undefined variables, redefined variables), could be really useful! `mypy` also does type checking if we care about types. We can also integrate our text editors with these analysis tools and get feedbacks without explicitly running the analysis tools in command lines. \n",
    "\n",
    "For web development, Chrome and Fireboxes offers excellent debugging tools, where we can modify contents of the website and see it render real time (that's why we should never trust the screenshot of a website!)"
   ]
  },
  {
   "cell_type": "markdown",
   "metadata": {},
   "source": [
    "## Profiling\n",
    "Profiling is to optimize the code\n",
    "\n",
    "First order of profiling is just time the code, like `time.time()` in Python. However this method measures the `real time`, and can change depending on how other programs running concurrently are sharing the resources on the CPU. \n",
    "\n",
    "`user time` measures the amount of time the CPU spends on executing user level code. Besides user level code, there's also kernel level code, an example of kernel level code comes with the OS, so for example, connecting with the internet, calling `ls` etc.\n",
    "\n",
    "`system time` measures the amount the CPU spends on executing kernel level code.\n",
    "\n",
    "We can use `time` command in the shell to get all three timing metrics. There are two flavors of profilers, tracing profilers and sampling profilers. Tracing profiler moves along with the code execution, and at the end of execution reports the time the code spends at each function, the issue with tracing profilers is that it adds a lot of overhead and might hinder the performance of your program. Sampling profiler on the other hand halts the execution of the program every once in while, for example every 100ms, and gets information on where the code is currently at. As long as this is being done for enough times, we will be able to get information on where most of the time is being spent on. \n",
    "\n",
    "`cProfile` is a tracing profiler in Python, to run it with our code, we can execute the command `pytohn -m cPython [-o output_file] [-s sort_order] <file.py> <args>` where `-m` stands for module and the output will be sorted by the total execution time if we do `tottime` for `sort_order`. However, this also shows the execution time of commands and functions of third-party softwares, so if we are interested in seeing how much time each line of OUR code is spending, we can using something called a `line profiler`. A line profiler in Python is `kernprof`, to use it we also need to add a decorator (`@profile`) in our python script.\n",
    "\n",
    "There's a program in Linux called `tac` and it essentially reverses the output of `cat`, so we don't have to scroll all the way up to find information we need\n",
    "\n",
    "### Memory profilers\n",
    "`valgrind` in `C`, `memory_profiler` in `Python`\n",
    "\n",
    "### Visualizations of profiling results\n",
    "Flame graph: y-axis is the stack trace and the x-axis shows the time of execution of each function\n",
    "\n",
    "Call graph: more in exercise\n",
    "\n",
    "### Overall resource usage\n",
    "HTOP can display information about how much memory and CPU resource is being consumed real time, kind of like task manager on Windows?"
   ]
  }
 ],
 "metadata": {
  "kernelspec": {
   "display_name": "Python 3",
   "language": "python",
   "name": "python3"
  },
  "language_info": {
   "codemirror_mode": {
    "name": "ipython",
    "version": 3
   },
   "file_extension": ".py",
   "mimetype": "text/x-python",
   "name": "python",
   "nbconvert_exporter": "python",
   "pygments_lexer": "ipython3",
   "version": "3.7.3"
  }
 },
 "nbformat": 4,
 "nbformat_minor": 2
}
